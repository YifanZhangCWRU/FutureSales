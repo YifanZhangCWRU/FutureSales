{
 "cells": [
  {
   "cell_type": "markdown",
   "source": [
    "# Final Project\r\n",
    "\r\n",
    "# *1C Company* - Predict Future Sales\r\n",
    "\r\n",
    "**Motivation**\r\n",
    "\r\n",
    "This challenge serves as final project for the Coursera course \"How to win a data science competition\". In this competition I will work with a challenging time-series dataset consisting of daily sales data. The sales data is kindly provided by one of the largest Russian software firms - 1C Company. \r\n",
    "\r\n",
    "The task is to **predict the total amount of products sold in every shop for the test set in the next month**. \r\n",
    "\r\n",
    "Submissions are evaluated by **root mean squared error** (RMSE). True target values are clipped into [0,20] range.\r\n",
    "\r\n",
    "Source: https://www.kaggle.com/c/competitive-data-science-predict-future-sales/overview\r\n",
    "\r\n",
    "## Table of contents\r\n",
    "\r\n",
    "###  [1. Importing data](#Tag1)\r\n",
    "&nbsp;&nbsp;&nbsp;[1.1 Import Generic Libraries](#Tag2.1)  \r\n",
    "&nbsp;&nbsp;&nbsp;[1.2 Import Raw csv files](#Tag2.2)  \r\n",
    "###  [2. Understanding Features, cleaning data](#Tag2)\r\n",
    "&nbsp;&nbsp;&nbsp;[2.1 Understanding BasicsData Types](#Tag2.1)  \r\n",
    "&nbsp;&nbsp;&nbsp;[2.2 Extracting text features from category and shops](#Tag2.2)  \r\n",
    "&nbsp;&nbsp;&nbsp;[2.3 Extracting numeric features and cleaning](#Tag2.3)         \r\n",
    "###  [3. EDA and CV dataset preparation](#Tag3)\r\n",
    "&nbsp;&nbsp;&nbsp;[3.1 Visualize general trends](#Tag3.1)\r\n",
    "&nbsp;&nbsp;&nbsp;[3.2 Data Leakage](#Tag3.2)\r\n",
    "&nbsp;&nbsp;&nbsp;[3.3 Construct training set](#Tag3.3)\r\n",
    "&nbsp;&nbsp;&nbsp;[3.4 Add numeric lag features](#Tag3.4)\r\n",
    "&nbsp;&nbsp;&nbsp;[3.5 mean encoding categorical features](#Tag3.5)\r\n",
    "###  [4. Modeling](#Tag4)   \r\n",
    "&nbsp;&nbsp;&nbsp;[4.1 Model selection, train and validation strategies](#Tag4.1)   \r\n",
    "&nbsp;&nbsp;&nbsp;[4.2 LightGBM](#Tag4.2)  \r\n",
    "&nbsp;&nbsp;&nbsp;[4.3 Linear model](#Tag4.3)\r\n",
    "&nbsp;&nbsp;&nbsp;[4.3 catboost](#Tag4.4)\r\n",
    "&nbsp;&nbsp;&nbsp;[4.4 Ensembling](#Tag4.5)  \r\n",
    "###  [5. Conclusion](#Tag5)       \r\n",
    "&nbsp;&nbsp;&nbsp;  "
   ],
   "metadata": {}
  },
  {
   "cell_type": "markdown",
   "source": [
    "# 1. Importing Data <a name=\"Tag1\"></a>"
   ],
   "metadata": {}
  },
  {
   "cell_type": "markdown",
   "source": [
    "### 1.1 Import Generic Librarie <a name=\"Tag1.1\"></a>"
   ],
   "metadata": {}
  },
  {
   "cell_type": "code",
   "execution_count": 1,
   "source": [
    "import numpy as np\r\n",
    "import pandas as pd\r\n",
    "import matplotlib\r\n",
    "import matplotlib.pyplot as plt\r\n",
    "import seaborn as sns\r\n",
    "# below are housekeeping, timing ,etc kits\r\n",
    "import pickle\r\n",
    "import gc\r\n",
    "import re\r\n",
    "import string \r\n",
    "import tqdm\r\n",
    "import os\r\n",
    "\r\n",
    "# below are modeling \r\n",
    "import sklearn\r\n",
    "import lightgbm as lgb\r\n",
    "import catboost\r\n",
    "\r\n",
    "# below are NLP packages for text and google translate to translate russian into English\r\n",
    "# $pip install nltk\r\n",
    "# $pip install googletrans\r\n",
    "# please run in terminals if you don't have them\r\n",
    "# below are basics data processing/visualization\r\n",
    "import nltk\r\n",
    "nltk.download('punkt')\r\n",
    "nltk.download('stopwords')\r\n",
    "nltk.download('wordnet')\r\n",
    "import gensim\r\n",
    "import googletrans\r\n",
    "import re\r\n",
    "\r\n",
    "# Below are the specific libraries in the packages\r\n",
    "from math import sqrt\r\n",
    "from numpy import loadtxt\r\n",
    "from itertools import product\r\n",
    "from tqdm import tqdm,tqdm_notebook\r\n",
    "from matplotlib import pyplot\r\n",
    "from googletrans import Translator\r\n",
    "from sklearn import preprocessing\r\n",
    "from sklearn.preprocessing import LabelEncoder, MinMaxScaler,StandardScaler\r\n",
    "from sklearn.feature_extraction import text\r\n",
    "from sklearn.feature_extraction.text import CountVectorizer,TfidfVectorizer\r\n",
    "from sklearn.metrics import accuracy_score,mean_squared_error,r2_score\r\n",
    "from sklearn.model_selection import KFold, train_test_split #StratifiedKFold\r\n",
    "from sklearn.linear_model import LinearRegression, Ridge, Lasso, SGDRegressor\r\n",
    "from sklearn.decomposition import NMF #PCA, TruncatedSVD, \r\n",
    "from sklearn.ensemble import RandomForestRegressor\r\n",
    "from catboost import CatBoostRegressor\r\n",
    "#from statsmodels.tsa.stattools import adfuller, acf, pacf,arma_order_select_ic\r\n",
    "\r\n",
    "from nltk.tokenize import word_tokenize\r\n",
    "from nltk.tokenize import MWETokenizer\r\n",
    "from gensim.models import Word2Vec\r\n",
    "from nltk.corpus import stopwords\r\n",
    "from nltk.stem import WordNetLemmatizer\r\n",
    "lemmatizer = WordNetLemmatizer()\r\n",
    "#from nltk.stem import LancasterStemmer   # DO NOT USE- not reliable in this application\r\n",
    "#stemmer= LancasterStemmer()\r\n",
    "from itertools import tee, islice\r\n",
    "from collections import Counter\r\n",
    "from googletrans import Translator\r\n",
    "\r\n",
    "for p in [np, pd, sklearn, lgb]:\r\n",
    "    print (p.__name__, p.__version__)\r\n",
    "\r\n",
    "# downcast variables to save memory\r\n",
    "def downcast_dtypes(df):\r\n",
    "    float_cols = [c for c in df if df[c].dtype == \"float64\"]\r\n",
    "    int_cols = [c for c in df if df[c].dtype in [\"int64\", \"int32\"]]\r\n",
    "    df[float_cols] = df[float_cols].astype(np.float32)\r\n",
    "    df[int_cols] = df[int_cols].astype(np.int16)\r\n",
    "    return df\r\n",
    "\r\n",
    "# get most frequent words\r\n",
    "def get_top_n_words(corpus, n=None):\r\n",
    "    \"\"\"\r\n",
    "    List the top n words in a vocabulary according to occurrence in a text corpus.\r\n",
    "    get_top_n_words([\"I love Python\", \"Python is a language programming\", \"Hello world\", \"I love the world\"]) -> \r\n",
    "    # https://gist.github.com/CristhianBoujon/c719ba2287a630a6d3821d37a9608ac8\r\n",
    "    \"\"\"\r\n",
    "    vec = CountVectorizer().fit(corpus)\r\n",
    "    bag_of_words = vec.transform(corpus)\r\n",
    "    sum_words = bag_of_words.sum(axis=0) \r\n",
    "    words_freq = [(word, sum_words[0, idx]) for word, idx in     vec.vocabulary_.items()]\r\n",
    "    words_freq =sorted(words_freq, key = lambda x: x[1], reverse=True)\r\n",
    "    return words_freq[:n]\r\n",
    "\r\n",
    "# get ngrams\r\n",
    "def ngrams(lst, n):\r\n",
    "  tlst = lst\r\n",
    "  while True:\r\n",
    "    a, b = tee(tlst)\r\n",
    "    l = tuple(islice(a, n))\r\n",
    "    if len(l) == n:\r\n",
    "      yield l\r\n",
    "      next(b)\r\n",
    "      tlst = b\r\n",
    "    else:\r\n",
    "        if len(l)==1:\r\n",
    "          yield lst\r\n",
    "          tlst = lst\r\n",
    "          break\r\n",
    "        else:\r\n",
    "          break\r\n",
    " # from https://stackoverflow.com/questions/12488722/counting-bigrams-pair-of-two-words-in-a-file-using-python\r\n",
    " # with modifications to trap errors in case sentence has only 1 word\r\n",
    "\r\n",
    "def duplicate_removal(w):\r\n",
    "    word_list = []\r\n",
    "    [word_list.append(s) for s in w if s not in word_list]\r\n",
    "    return word_list\r\n",
    "#https://www.engineeringbigdata.com/python-exercise-10-remove-duplicate-words-with-user-input/   this removes duplicated words in a sentence"
   ],
   "outputs": [
    {
     "output_type": "stream",
     "name": "stderr",
     "text": [
      "[nltk_data] Downloading package punkt to\n",
      "[nltk_data]     C:\\Users\\Ivan\\AppData\\Roaming\\nltk_data...\n",
      "[nltk_data]   Package punkt is already up-to-date!\n",
      "[nltk_data] Downloading package stopwords to\n",
      "[nltk_data]     C:\\Users\\Ivan\\AppData\\Roaming\\nltk_data...\n",
      "[nltk_data]   Package stopwords is already up-to-date!\n",
      "[nltk_data] Downloading package wordnet to\n",
      "[nltk_data]     C:\\Users\\Ivan\\AppData\\Roaming\\nltk_data...\n",
      "[nltk_data]   Package wordnet is already up-to-date!\n"
     ]
    },
    {
     "output_type": "stream",
     "name": "stdout",
     "text": [
      "numpy 1.21.2\n",
      "pandas 1.3.3\n",
      "sklearn 1.0\n",
      "lightgbm 3.3.0\n"
     ]
    }
   ],
   "metadata": {}
  },
  {
   "cell_type": "markdown",
   "source": [
    "### 1.2 Import Raw CSV Files <a name=\"Tag1.2\"></a> "
   ],
   "metadata": {}
  },
  {
   "cell_type": "code",
   "execution_count": 2,
   "source": [
    "### get raw data path from json header, then load all the raw data\r\n",
    "!pip install pandas\r\n",
    "from datetime import datetime\r\n",
    "import pandas as pd\r\n",
    "import json\r\n",
    "settings = json.load(open('settings.json'))\r\n",
    "settings\r\n",
    "# read csv\r\n",
    "item_categories = pd.read_csv(settings[\"DATA_DIR\"] + 'item_categories.csv')\r\n",
    "items = pd.read_csv(settings[\"DATA_DIR\"] + 'items.csv')\r\n",
    "shops = pd.read_csv(settings[\"DATA_DIR\"] + 'shops.csv')\r\n",
    "sales_train = pd.read_csv(settings[\"TRAIN_DATA_PATH\"],\r\n",
    "                          parse_dates=['date'],\r\n",
    "                          date_parser=lambda x: datetime.strptime(x, '%d.%m.%Y'))\r\n",
    "test = pd.read_csv(settings[\"TEST_DATA_PATH\"])\r\n"
   ],
   "outputs": [
    {
     "output_type": "stream",
     "name": "stderr",
     "text": [
      "WARNING: You are using pip version 21.3; however, version 21.3.1 is available.\n",
      "You should consider upgrading via the 'C:\\Users\\Ivan\\AppData\\Local\\Microsoft\\WindowsApps\\PythonSoftwareFoundation.Python.3.9_qbz5n2kfra8p0\\python.exe -m pip install --upgrade pip' command.\n"
     ]
    },
    {
     "output_type": "stream",
     "name": "stdout",
     "text": [
      "Requirement already satisfied: pandas in c:\\users\\ivan\\appdata\\local\\packages\\pythonsoftwarefoundation.python.3.9_qbz5n2kfra8p0\\localcache\\local-packages\\python39\\site-packages (1.3.3)\n",
      "Requirement already satisfied: numpy>=1.17.3 in c:\\users\\ivan\\appdata\\local\\packages\\pythonsoftwarefoundation.python.3.9_qbz5n2kfra8p0\\localcache\\local-packages\\python39\\site-packages (from pandas) (1.21.2)\n",
      "Requirement already satisfied: python-dateutil>=2.7.3 in c:\\users\\ivan\\appdata\\local\\packages\\pythonsoftwarefoundation.python.3.9_qbz5n2kfra8p0\\localcache\\local-packages\\python39\\site-packages (from pandas) (2.8.2)\n",
      "Requirement already satisfied: pytz>=2017.3 in c:\\users\\ivan\\appdata\\local\\packages\\pythonsoftwarefoundation.python.3.9_qbz5n2kfra8p0\\localcache\\local-packages\\python39\\site-packages (from pandas) (2021.3)\n",
      "Requirement already satisfied: six>=1.5 in c:\\users\\ivan\\appdata\\local\\packages\\pythonsoftwarefoundation.python.3.9_qbz5n2kfra8p0\\localcache\\local-packages\\python39\\site-packages (from python-dateutil>=2.7.3->pandas) (1.16.0)\n"
     ]
    }
   ],
   "metadata": {}
  },
  {
   "cell_type": "markdown",
   "source": [
    "# 2. Understanding Features, cleaning data"
   ],
   "metadata": {}
  },
  {
   "cell_type": "markdown",
   "source": [
    "### 2.1 Understanding BasicsData Types <a name=\"Tag2.1\"></a> \r\n",
    "Here I use info() and head() methods to examine the loaded 4 files, to identify their size and feature types\r\n",
    "\r\n",
    "Data fields description:\r\n",
    "ID - an Id that represents a (Shop, Item) tuple within the test set\r\n",
    "shop_id - unique identifier of a shop\r\n",
    "item_id - unique identifier of a product\r\n",
    "item_category_id - unique identifier of item category\r\n",
    "date_block_num - a consecutive month number, used for convenience. January 2013 is 0, February 2013 is 1,..., October 2015 is 33\r\n",
    "date - date in format dd/mm/yyyy\r\n",
    "item_cnt_day - number of products sold. You are predicting a monthly amount of this measure\r\n",
    "item_price - current price of an item\r\n",
    "item_name - name of item\r\n",
    "shop_name - name of shop\r\n",
    "item_category_name - name of item category"
   ],
   "metadata": {}
  },
  {
   "cell_type": "code",
   "execution_count": 3,
   "source": [
    "print(shops.head(5))\r\n",
    "shops.info()\r\n",
    "print('unique shops:')\r\n",
    "print(shops.nunique())"
   ],
   "outputs": [
    {
     "output_type": "stream",
     "name": "stdout",
     "text": [
      "                        shop_name  shop_id\n",
      "0   !Якутск Орджоникидзе, 56 фран        0\n",
      "1   !Якутск ТЦ \"Центральный\" фран        1\n",
      "2                Адыгея ТЦ \"Мега\"        2\n",
      "3  Балашиха ТРК \"Октябрь-Киномир\"        3\n",
      "4        Волжский ТЦ \"Волга Молл\"        4\n",
      "<class 'pandas.core.frame.DataFrame'>\n",
      "RangeIndex: 60 entries, 0 to 59\n",
      "Data columns (total 2 columns):\n",
      " #   Column     Non-Null Count  Dtype \n",
      "---  ------     --------------  ----- \n",
      " 0   shop_name  60 non-null     object\n",
      " 1   shop_id    60 non-null     int64 \n",
      "dtypes: int64(1), object(1)\n",
      "memory usage: 1.1+ KB\n",
      "unique shops:\n",
      "shop_name    60\n",
      "shop_id      60\n",
      "dtype: int64\n"
     ]
    }
   ],
   "metadata": {}
  },
  {
   "cell_type": "code",
   "execution_count": 4,
   "source": [
    "print(items.head(5))\r\n",
    "items.info()\r\n",
    "print('unique items:')\r\n",
    "print(items.nunique())"
   ],
   "outputs": [
    {
     "output_type": "stream",
     "name": "stdout",
     "text": [
      "                                           item_name  item_id  \\\n",
      "0          ! ВО ВЛАСТИ НАВАЖДЕНИЯ (ПЛАСТ.)         D        0   \n",
      "1  !ABBYY FineReader 12 Professional Edition Full...        1   \n",
      "2      ***В ЛУЧАХ СЛАВЫ   (UNV)                    D        2   \n",
      "3    ***ГОЛУБАЯ ВОЛНА  (Univ)                      D        3   \n",
      "4        ***КОРОБКА (СТЕКЛО)                       D        4   \n",
      "\n",
      "   item_category_id  \n",
      "0                40  \n",
      "1                76  \n",
      "2                40  \n",
      "3                40  \n",
      "4                40  \n",
      "<class 'pandas.core.frame.DataFrame'>\n",
      "RangeIndex: 22170 entries, 0 to 22169\n",
      "Data columns (total 3 columns):\n",
      " #   Column            Non-Null Count  Dtype \n",
      "---  ------            --------------  ----- \n",
      " 0   item_name         22170 non-null  object\n",
      " 1   item_id           22170 non-null  int64 \n",
      " 2   item_category_id  22170 non-null  int64 \n",
      "dtypes: int64(2), object(1)\n",
      "memory usage: 519.7+ KB\n",
      "unique items:\n",
      "item_name           22170\n",
      "item_id             22170\n",
      "item_category_id       84\n",
      "dtype: int64\n"
     ]
    }
   ],
   "metadata": {}
  },
  {
   "cell_type": "code",
   "execution_count": 5,
   "source": [
    "print(item_categories.head(5))\r\n",
    "item_categories.info()\r\n",
    "print('unique item categories:')\r\n",
    "print(item_categories.nunique())"
   ],
   "outputs": [
    {
     "output_type": "stream",
     "name": "stdout",
     "text": [
      "        item_category_name  item_category_id\n",
      "0  PC - Гарнитуры/Наушники                 0\n",
      "1         Аксессуары - PS2                 1\n",
      "2         Аксессуары - PS3                 2\n",
      "3         Аксессуары - PS4                 3\n",
      "4         Аксессуары - PSP                 4\n",
      "<class 'pandas.core.frame.DataFrame'>\n",
      "RangeIndex: 84 entries, 0 to 83\n",
      "Data columns (total 2 columns):\n",
      " #   Column              Non-Null Count  Dtype \n",
      "---  ------              --------------  ----- \n",
      " 0   item_category_name  84 non-null     object\n",
      " 1   item_category_id    84 non-null     int64 \n",
      "dtypes: int64(1), object(1)\n",
      "memory usage: 1.4+ KB\n",
      "unique item categories:\n",
      "item_category_name    84\n",
      "item_category_id      84\n",
      "dtype: int64\n"
     ]
    }
   ],
   "metadata": {}
  },
  {
   "cell_type": "code",
   "execution_count": 6,
   "source": [
    "print(sales_train.head(5))\r\n",
    "sales_train.info()\r\n",
    "print('unique sales table objects:')\r\n",
    "print(sales_train.nunique())"
   ],
   "outputs": [
    {
     "output_type": "stream",
     "name": "stdout",
     "text": [
      "        date  date_block_num  shop_id  item_id  item_price  item_cnt_day\n",
      "0 2013-01-02               0       59    22154      999.00           1.0\n",
      "1 2013-01-03               0       25     2552      899.00           1.0\n",
      "2 2013-01-05               0       25     2552      899.00          -1.0\n",
      "3 2013-01-06               0       25     2554     1709.05           1.0\n",
      "4 2013-01-15               0       25     2555     1099.00           1.0\n",
      "<class 'pandas.core.frame.DataFrame'>\n",
      "RangeIndex: 2935849 entries, 0 to 2935848\n",
      "Data columns (total 6 columns):\n",
      " #   Column          Dtype         \n",
      "---  ------          -----         \n",
      " 0   date            datetime64[ns]\n",
      " 1   date_block_num  int64         \n",
      " 2   shop_id         int64         \n",
      " 3   item_id         int64         \n",
      " 4   item_price      float64       \n",
      " 5   item_cnt_day    float64       \n",
      "dtypes: datetime64[ns](1), float64(2), int64(3)\n",
      "memory usage: 134.4 MB\n",
      "unique sales table objects:\n",
      "date               1034\n",
      "date_block_num       34\n",
      "shop_id              60\n",
      "item_id           21807\n",
      "item_price        19993\n",
      "item_cnt_day        198\n",
      "dtype: int64\n"
     ]
    }
   ],
   "metadata": {}
  },
  {
   "cell_type": "code",
   "execution_count": 7,
   "source": [
    "print(test.head(5))\r\n",
    "test.info()\r\n",
    "print('unique test header objects:')\r\n",
    "print(test.nunique())"
   ],
   "outputs": [
    {
     "output_type": "stream",
     "name": "stdout",
     "text": [
      "   ID  shop_id  item_id\n",
      "0   0        5     5037\n",
      "1   1        5     5320\n",
      "2   2        5     5233\n",
      "3   3        5     5232\n",
      "4   4        5     5268\n",
      "<class 'pandas.core.frame.DataFrame'>\n",
      "RangeIndex: 214200 entries, 0 to 214199\n",
      "Data columns (total 3 columns):\n",
      " #   Column   Non-Null Count   Dtype\n",
      "---  ------   --------------   -----\n",
      " 0   ID       214200 non-null  int64\n",
      " 1   shop_id  214200 non-null  int64\n",
      " 2   item_id  214200 non-null  int64\n",
      "dtypes: int64(3)\n",
      "memory usage: 4.9 MB\n",
      "unique test header objects:\n",
      "ID         214200\n",
      "shop_id        42\n",
      "item_id      5100\n",
      "dtype: int64\n"
     ]
    }
   ],
   "metadata": {}
  },
  {
   "cell_type": "markdown",
   "source": [
    "### Based on the above codes, we learned that there are 60 unique shops, 84 unique itemcategories, and 22170 possible items. The main training set csv file should be sales_train, and it contains 21807 out of 22170 possible items\r\n",
    "### the training set contains 2.9million objects, include 60/60 unique shops, and 21807/22170 unique items, and unknown amount of unique categories (to be explored further)\r\n",
    "### on the other hand, the test data set contains 214k unique objects, contains 42/60 unique shops, and 5100/22170 unique items. Whether the shop_id , item_id in the test set follows similar distribution as train set needs to be explored. \r\n",
    "### Finally there are three text features : item_category_name, item_name and shop_name. Rest of the features are numerical. "
   ],
   "metadata": {}
  },
  {
   "cell_type": "markdown",
   "source": [
    "### 2.2 Extracting text features from category and shops <a name=\"Tag2.2\"></a> \r\n",
    "Among 3 text features:  item_name, shop_name and item_category_name, and item_name has 20K+ unique objects, while the other two has less than 100 objects for each\r\n",
    "we will leave item_name alone and do not extract categorical/numeric feature from it. We will only perform text feature extraction on the other smaller features (shop_name, and item_category_name)\r\n",
    "Let's begin by defining a pipeline to convert russian text features to English, then perform bag-of-words to separate text,then TF-IDF to extract frequency related numeric features"
   ],
   "metadata": {}
  },
  {
   "cell_type": "code",
   "execution_count": 8,
   "source": [
    "# Setting up text - to - numeric - feature extraction code\r\n",
    "# These are the routine customized methods for processing . here since categorical features for shop_name and category_name were less than 100,\r\n",
    "# one can run these without much performance issues. I do not recommend using this for item_names as it has 22170 unique objects\r\n",
    "\r\n",
    "\r\n",
    "# get most frequent words\r\n",
    "def get_top_n_words(corpus, n=None):\r\n",
    "    \"\"\"\r\n",
    "    List the top n words in a vocabulary according to occurrence in a text corpus.\r\n",
    "    get_top_n_words([\"I love Python\", \"Python is a language programming\", \"Hello world\", \"I love the world\"]) -> \r\n",
    "    # https://gist.github.com/CristhianBoujon/c719ba2287a630a6d3821d37a9608ac8\r\n",
    "    \"\"\"\r\n",
    "    vec = CountVectorizer().fit(corpus)\r\n",
    "    bag_of_words = vec.transform(corpus)\r\n",
    "    sum_words = bag_of_words.sum(axis=0) \r\n",
    "    words_freq = [(word, sum_words[0, idx]) for word, idx in     vec.vocabulary_.items()]\r\n",
    "    words_freq =sorted(words_freq, key = lambda x: x[1], reverse=True)\r\n",
    "    return words_freq[:n]\r\n",
    "\r\n",
    "# get ngrams\r\n",
    "def ngrams(lst, n):\r\n",
    "  tlst = lst\r\n",
    "  while True:\r\n",
    "    a, b = tee(tlst)\r\n",
    "    l = tuple(islice(a, n))\r\n",
    "    if len(l) == n:\r\n",
    "      yield l\r\n",
    "      next(b)\r\n",
    "      tlst = b\r\n",
    "    else:\r\n",
    "        if len(l)==1:\r\n",
    "          yield lst\r\n",
    "          tlst = lst\r\n",
    "          break\r\n",
    "        else:\r\n",
    "          break\r\n",
    " # from https://stackoverflow.com/questions/12488722/counting-bigrams-pair-of-two-words-in-a-file-using-python\r\n",
    " # with modifications to trap errors in case sentence has only 1 word\r\n",
    "\r\n",
    "def duplicate_removal(w):\r\n",
    "    word_list = []\r\n",
    "    [word_list.append(s) for s in w if s not in word_list]\r\n",
    "    return word_list\r\n",
    "#https://www.engineeringbigdata.com/python-exercise-10-remove-duplicate-words-with-user-input/   this removes duplicated words in a sentence\r\n",
    "\r\n",
    "# google translate from Russian to English\r\n",
    "tokenizer = MWETokenizer()\r\n",
    "def get_ngrams(text,n):\r\n",
    "    n_grams = ngrams(tokenizer.tokenize((text).split()), n)\r\n",
    "    return [ ' '.join(grams) for grams in n_grams]\r\n",
    "    \r\n",
    "def text_cleaning(text_df):\r\n",
    "    # process the text in this mini routine\r\n",
    "\t# step1: translate using google translate, then lower-case it\r\n",
    "\t# step2: lemmatize , gaming-game, xbox 360 with underscores\r\n",
    "\t# step3: remove dash, replace by underscores for two-words; then tokenize\r\n",
    "\t# step4: stem words (optional)\r\n",
    "    tokenizer = MWETokenizer()\r\n",
    "    tokenizer.add_mwe(('xbox','one'))\r\n",
    "    tokenizer.add_mwe(('xbox','360'))\r\n",
    "    unwantedtokens=[':',',','(',')','-','.','!','/']\r\n",
    "    translator = Translator()\r\n",
    "    for sentence in range(text_df.index.stop):\r\n",
    "        temp=translator.translate(text_df[sentence],dest='en')\r\n",
    "        testb=temp.text\r\n",
    "        testb=testb.lower()\r\n",
    "        del temp\r\n",
    "        # change gaming to game, blue-ray to blue_ray(to make sure it detect it as one word)\r\n",
    "        temp=testb.replace('ing', 'e') \r\n",
    "        testb=temp\r\n",
    "        del temp\r\n",
    "        # finished translation, then merge xbox and 360, xbox and one\r\n",
    "        testb=' '.join(tokenizer.tokenize(testb.split()))\r\n",
    "        ngram2=get_ngrams(testb,2)\r\n",
    "        # make xbox_360 and x_box_one etc\r\n",
    "        testb=(\" \").join(ngram2)   \r\n",
    "        # remove tokens, then remove duplicates, lemmatize and stem (stem is not implemented today)\r\n",
    "        text_tokens = word_tokenize(testb)\r\n",
    "        tokens_without_sw = [word for word in text_tokens if not word in stopwords.words()]\r\n",
    "        filtered_sentence = [word for word in tokens_without_sw if not word in unwantedtokens]\r\n",
    "        clean_sentence=\" \".join(duplicate_removal(filtered_sentence))\r\n",
    "        word_list = nltk.word_tokenize(clean_sentence)\r\n",
    "        lemmatized_sentence = ' '.join([lemmatizer.lemmatize(w) for w in word_list])\r\n",
    "        temp=lemmatized_sentence.replace('-', '_')  \r\n",
    "        # change blue-ray to blue_ray to make sure it is treated as one word; since the stand-alone '-' has been removed, in-words '-' should be converted to '_'\r\n",
    "        stemmed_sentence=temp\r\n",
    "        del temp\r\n",
    "        #stemmed_sentence= stemmer.stem(lemmatized_sentence)\r\n",
    "        text_df[sentence]=stemmed_sentence\r\n",
    "    return text_df\r\n",
    "\r\n",
    "def plot_top_words(text_df,num_top_words):\r\n",
    "    common_words = get_top_n_words(text_df, num_top_words)\r\n",
    "    # picked top 40 words, because 40 will start to have common_words with minimum frequency of 1 - trivial solution\r\n",
    "    # you can modify it and pass it as argument instead\r\n",
    "    for word, freq in common_words:\r\n",
    "        print(word, freq)\r\n",
    "    # for 'top words'. \r\n",
    "    keywords,frequency=zip(*common_words)\r\n",
    "    fig, ax = plt.subplots()\r\n",
    "    fig.set_size_inches(9,9)\r\n",
    "    plt.title('keywords and frequency of appearance ')\r\n",
    "    y_pos = np.arange(len(keywords))\r\n",
    "    plt.barh(y_pos, frequency)\r\n",
    "    plt.yticks(y_pos, keywords)\r\n",
    "    plt.show()\r\n",
    "    return\r\n",
    "\r\n",
    "def text_tfidf_num(text_df):\r\n",
    "    countvectorizer = CountVectorizer(analyzer= 'word', stop_words='english')\r\n",
    "    tfidfvectorizer = TfidfVectorizer(analyzer='word',stop_words= 'english')\r\n",
    "    count_wm = countvectorizer.fit_transform(text_df)\r\n",
    "    tfidf_wm = tfidfvectorizer.fit_transform(text_df)\r\n",
    "    count_tokens = countvectorizer.get_feature_names()\r\n",
    "    tfidf_tokens = tfidfvectorizer.get_feature_names()\r\n",
    "    df_countvect = pd.DataFrame(data = count_wm.toarray(),columns = count_tokens)\r\n",
    "    df_tfidfvect = pd.DataFrame(data = tfidf_wm.toarray(),columns = tfidf_tokens)\r\n",
    "    print(\"Count Vectorizer\\n\")\r\n",
    "    print(df_countvect.head(5))\r\n",
    "    print(\"\\nTD-IDF Vectorizer\\n\")\r\n",
    "    print(df_tfidfvect.head(5))\r\n",
    "    return df_tfidfvect"
   ],
   "outputs": [],
   "metadata": {}
  },
  {
   "cell_type": "code",
   "execution_count": 9,
   "source": [
    "# First let's convert item_category text to word frequency\r\n",
    "clean_cat_name=text_cleaning(item_categories.item_category_name)\r\n",
    "plot_top_words(clean_cat_name,40)\r\n",
    "item_cat_num=text_tfidf_num(clean_cat_name)"
   ],
   "outputs": [
    {
     "output_type": "stream",
     "name": "stderr",
     "text": [
      "C:\\Users\\Ivan\\AppData\\Local\\Temp/ipykernel_7412/3849403723.py:89: SettingWithCopyWarning: \n",
      "A value is trying to be set on a copy of a slice from a DataFrame\n",
      "\n",
      "See the caveats in the documentation: https://pandas.pydata.org/pandas-docs/stable/user_guide/indexing.html#returning-a-view-versus-a-copy\n",
      "  text_df[sentence]=stemmed_sentence\n"
     ]
    },
    {
     "output_type": "stream",
     "name": "stdout",
     "text": [
      "game 24\n",
      "book 13\n",
      "gift 13\n",
      "accessory 8\n",
      "digit 8\n",
      "console 8\n",
      "music 7\n",
      "program 6\n",
      "pc 5\n",
      "payment 5\n",
      "card 5\n",
      "cinema 5\n",
      "edition 4\n",
      "ps2 3\n",
      "ps3 3\n",
      "ps4 3\n",
      "psp 3\n",
      "psvita 3\n",
      "xbox_360 3\n",
      "xbox_one 3\n",
      "blu_ray 3\n",
      "audiobooks 3\n",
      "1c 3\n",
      "literature 3\n",
      "service 3\n",
      "ticket 2\n",
      "mac 2\n",
      "live 2\n",
      "number 2\n",
      "figure 2\n",
      "postcard 2\n",
      "production 2\n",
      "cd 2\n",
      "board 2\n",
      "souvenir 2\n",
      "home 2\n",
      "office 2\n",
      "clean 2\n",
      "medium 2\n",
      "headset 1\n"
     ]
    },
    {
     "output_type": "display_data",
     "data": {
      "image/png": "[encoded data removed]",
      "text/plain": [
       "<Figure size 648x648 with 1 Axes>"
      ]
     },
     "metadata": {
      "needs_background": "light"
     }
    },
    {
     "output_type": "stream",
     "name": "stdout",
     "text": [
      "Count Vectorizer\n",
      "\n",
      "   1c  3d  4k  accessory  additional  album  android  artbooks  attribute  \\\n",
      "0   0   0   0          0           0      0        0         0          0   \n",
      "1   0   0   0          1           0      0        0         0          0   \n",
      "2   0   0   0          1           0      0        0         0          0   \n",
      "3   0   0   0          1           0      0        0         0          0   \n",
      "4   0   0   0          1           0      0        0         0          0   \n",
      "\n",
      "   audiobooks  ...  sticker  ticket  toy  traine  video  vinyl  window  \\\n",
      "0           0  ...        0       0    0       0      0      0       0   \n",
      "1           0  ...        0       0    0       0      0      0       0   \n",
      "2           0  ...        0       0    0       0      0      0       0   \n",
      "3           0  ...        0       0    0       0      0      0       0   \n",
      "4           0  ...        0       0    0       0      0      0       0   \n",
      "\n",
      "   xbox_360  xbox_one  игры  \n",
      "0         0         0     0  \n",
      "1         0         0     0  \n",
      "2         0         0     0  \n",
      "3         0         0     0  \n",
      "4         0         0     0  \n",
      "\n",
      "[5 rows x 93 columns]\n",
      "\n",
      "TD-IDF Vectorizer\n",
      "\n",
      "    1c   3d   4k  accessory  additional  album  android  artbooks  attribute  \\\n",
      "0  0.0  0.0  0.0   0.000000         0.0    0.0      0.0       0.0        0.0   \n",
      "1  0.0  0.0  0.0   0.624735         0.0    0.0      0.0       0.0        0.0   \n",
      "2  0.0  0.0  0.0   0.624735         0.0    0.0      0.0       0.0        0.0   \n",
      "3  0.0  0.0  0.0   0.624735         0.0    0.0      0.0       0.0        0.0   \n",
      "4  0.0  0.0  0.0   0.624735         0.0    0.0      0.0       0.0        0.0   \n",
      "\n",
      "   audiobooks  ...  sticker  ticket  toy  traine  video  vinyl  window  \\\n",
      "0         0.0  ...      0.0     0.0  0.0     0.0    0.0    0.0     0.0   \n",
      "1         0.0  ...      0.0     0.0  0.0     0.0    0.0    0.0     0.0   \n",
      "2         0.0  ...      0.0     0.0  0.0     0.0    0.0    0.0     0.0   \n",
      "3         0.0  ...      0.0     0.0  0.0     0.0    0.0    0.0     0.0   \n",
      "4         0.0  ...      0.0     0.0  0.0     0.0    0.0    0.0     0.0   \n",
      "\n",
      "   xbox_360  xbox_one  игры  \n",
      "0       0.0       0.0   0.0  \n",
      "1       0.0       0.0   0.0  \n",
      "2       0.0       0.0   0.0  \n",
      "3       0.0       0.0   0.0  \n",
      "4       0.0       0.0   0.0  \n",
      "\n",
      "[5 rows x 93 columns]\n"
     ]
    },
    {
     "output_type": "stream",
     "name": "stderr",
     "text": [
      "C:\\Users\\Ivan\\AppData\\Local\\Packages\\PythonSoftwareFoundation.Python.3.9_qbz5n2kfra8p0\\LocalCache\\local-packages\\Python39\\site-packages\\sklearn\\utils\\deprecation.py:87: FutureWarning: Function get_feature_names is deprecated; get_feature_names is deprecated in 1.0 and will be removed in 1.2. Please use get_feature_names_out instead.\n",
      "  warnings.warn(msg, category=FutureWarning)\n"
     ]
    }
   ],
   "metadata": {}
  },
  {
   "cell_type": "code",
   "execution_count": 10,
   "source": [
    "# # test code secton, commented out \r\n",
    "# tokenizer = MWETokenizer()\r\n",
    "# tokenizer.add_mwe(('xbox','one'))\r\n",
    "# tokenizer.add_mwe(('xbox','360'))\r\n",
    "# unwantedtokens=[':',',','(',')','-','.','!','/']\r\n",
    "# translator = Translator()\r\n",
    "\r\n",
    "# text_df=item_categories.item_category_name\r\n",
    "\r\n",
    "# sentence=18\r\n",
    "# print(text_df[sentence])\r\n",
    "# temp=translator.translate(text_df[sentence],dest='en')\r\n",
    "# testb=temp.text\r\n",
    "# print(testb)\r\n",
    "# testb=testb.lower()\r\n",
    "\r\n",
    "# del temp\r\n",
    "# # change gaming to game, blue-ray to blue_ray(to make sure it detect it as one word)\r\n",
    "# temp=testb.replace('ing', 'e') \r\n",
    "# testb=temp\r\n",
    "# del temp\r\n",
    "# # finished translation, then merge xbox and 360, xbox and one\r\n",
    "# testb=' '.join(tokenizer.tokenize(testb.split()))\r\n",
    "# ngram2=get_ngrams(testb,2)\r\n",
    "# # make xbox_360 and x_box_one etc\r\n",
    "# testb=(\" \").join(ngram2)   \r\n",
    "# # remove tokens, then remove duplicates, lemmatize and stem (stem is not implemented today)\r\n",
    "# text_tokens = word_tokenize(testb)\r\n",
    "# tokens_without_sw = [word for word in text_tokens if not word in stopwords.words()]\r\n",
    "# filtered_sentence = [word for word in tokens_without_sw if not word in unwantedtokens]\r\n",
    "# clean_sentence=\" \".join(duplicate_removal(filtered_sentence))\r\n",
    "# word_list = nltk.word_tokenize(clean_sentence)\r\n",
    "# lemmatized_sentence = ' '.join([lemmatizer.lemmatize(w) for w in word_list])\r\n",
    "# temp=lemmatized_sentence.replace('-', '_')  \r\n",
    "# # change blue-ray to blue_ray to make sure it is treated as one word; since the stand-alone '-' has been removed, in-words '-' should be converted to '_'\r\n",
    "# stemmed_sentence=temp\r\n",
    "# del temp\r\n",
    "# #stemmed_sentence= stemmer.stem(lemmatized_sentence)\r\n",
    "# text_df[sentence]=stemmed_sentence\r\n",
    "\r\n",
    "# print(testb)\r\n",
    "# print(stemmed_sentence)"
   ],
   "outputs": [],
   "metadata": {}
  },
  {
   "cell_type": "code",
   "execution_count": 11,
   "source": [
    "plot_top_words(clean_cat_name,40)"
   ],
   "outputs": [
    {
     "output_type": "stream",
     "name": "stdout",
     "text": [
      "game 24\n",
      "book 13\n",
      "gift 13\n",
      "accessory 8\n",
      "digit 8\n",
      "console 8\n",
      "music 7\n",
      "program 6\n",
      "pc 5\n",
      "payment 5\n",
      "card 5\n",
      "cinema 5\n",
      "edition 4\n",
      "ps2 3\n",
      "ps3 3\n",
      "ps4 3\n",
      "psp 3\n",
      "psvita 3\n",
      "xbox_360 3\n",
      "xbox_one 3\n",
      "blu_ray 3\n",
      "audiobooks 3\n",
      "1c 3\n",
      "literature 3\n",
      "service 3\n",
      "ticket 2\n",
      "mac 2\n",
      "live 2\n",
      "number 2\n",
      "figure 2\n",
      "postcard 2\n",
      "production 2\n",
      "cd 2\n",
      "board 2\n",
      "souvenir 2\n",
      "home 2\n",
      "office 2\n",
      "clean 2\n",
      "medium 2\n",
      "headset 1\n"
     ]
    },
    {
     "output_type": "display_data",
     "data": {
      "image/png": "[encoded data removed]",
      "text/plain": [
       "<Figure size 648x648 with 1 Axes>"
      ]
     },
     "metadata": {
      "needs_background": "light"
     }
    }
   ],
   "metadata": {}
  },
  {
   "cell_type": "code",
   "execution_count": 12,
   "source": [
    "item_cat_num.shape"
   ],
   "outputs": [
    {
     "output_type": "execute_result",
     "data": {
      "text/plain": [
       "(84, 93)"
      ]
     },
     "metadata": {},
     "execution_count": 12
    }
   ],
   "metadata": {}
  },
  {
   "cell_type": "code",
   "execution_count": 13,
   "source": [
    "clean_shop_name=text_cleaning(shops.shop_name)\r\n",
    "plot_top_words(clean_shop_name,40)\r\n",
    "shop_num=text_tfidf_num(clean_shop_name)"
   ],
   "outputs": [
    {
     "output_type": "stream",
     "name": "stderr",
     "text": [
      "C:\\Users\\Ivan\\AppData\\Local\\Temp/ipykernel_7412/3849403723.py:89: SettingWithCopyWarning: \n",
      "A value is trying to be set on a copy of a slice from a DataFrame\n",
      "\n",
      "See the caveats in the documentation: https://pandas.pydata.org/pandas-docs/stable/user_guide/indexing.html#returning-a-view-versus-a-copy\n",
      "  text_df[sentence]=stemmed_sentence\n"
     ]
    },
    {
     "output_type": "stream",
     "name": "stdout",
     "text": [
      "tc 17\n",
      "center 16\n",
      "shoppe 15\n",
      "moscow 13\n",
      "mega 7\n",
      "trk 5\n",
      "trc 5\n",
      "yakutsk 4\n",
      "tk 4\n",
      "central 3\n",
      "mall 3\n",
      "city 3\n",
      "tyumen 3\n",
      "ordzhonikidze 2\n",
      "56 2\n",
      "fran 2\n",
      "voronezh 2\n",
      "zhukovsky 2\n",
      "ul 2\n",
      "chkalova 2\n",
      "kazan 2\n",
      "century 2\n",
      "rio 2\n",
      "krasnoyarsk 2\n",
      "budenovsky 2\n",
      "pav 2\n",
      "novgorod 2\n",
      "novosibirsk 2\n",
      "horizon 2\n",
      "spb 2\n",
      "samara 2\n",
      "ufa 2\n",
      "adygea 1\n",
      "balashikha 1\n",
      "october_kinomir 1\n",
      "volzhsky 1\n",
      "volga 1\n",
      "vologda 1\n",
      "marmalad 1\n",
      "plekhanovskaya 1\n"
     ]
    },
    {
     "output_type": "display_data",
     "data": {
      "image/png": "[encoded data removed]",
      "text/plain": [
       "<Figure size 648x648 with 1 Axes>"
      ]
     },
     "metadata": {
      "needs_background": "light"
     }
    },
    {
     "output_type": "stream",
     "name": "stdout",
     "text": [
      "Count Vectorizer\n",
      "\n",
      "   13  1c_online  39m  39m²  56  7i  a2  adygea  afi  altair  ...  volzhsky  \\\n",
      "0   0          0    0     0   1   0   0       0    0       0  ...         0   \n",
      "1   0          0    0     0   0   0   0       0    0       0  ...         0   \n",
      "2   0          0    0     0   0   0   0       1    0       0  ...         0   \n",
      "3   0          0    0     0   0   0   0       0    0       0  ...         0   \n",
      "4   0          0    0     0   0   0   0       0    0       0  ...         1   \n",
      "\n",
      "   voronezh  voronež  warehouse  white  xl_3  xxi  yakutsk  yaroslavl  \\\n",
      "0         0        0          0      0     0    0        1          0   \n",
      "1         0        0          0      0     0    0        1          0   \n",
      "2         0        0          0      0     0    0        0          0   \n",
      "3         0        0          0      0     0    0        0          0   \n",
      "4         0        0          0      0     0    0        0          0   \n",
      "\n",
      "   zhukovsky  \n",
      "0          0  \n",
      "1          0  \n",
      "2          0  \n",
      "3          0  \n",
      "4          0  \n",
      "\n",
      "[5 rows x 118 columns]\n",
      "\n",
      "TD-IDF Vectorizer\n",
      "\n",
      "    13  1c_online  39m  39m²        56   7i   a2    adygea  afi  altair  ...  \\\n",
      "0  0.0        0.0  0.0   0.0  0.515602  0.0  0.0  0.000000  0.0     0.0  ...   \n",
      "1  0.0        0.0  0.0   0.0  0.000000  0.0  0.0  0.000000  0.0     0.0  ...   \n",
      "2  0.0        0.0  0.0   0.0  0.000000  0.0  0.0  0.761716  0.0     0.0  ...   \n",
      "3  0.0        0.0  0.0   0.0  0.000000  0.0  0.0  0.000000  0.0     0.0  ...   \n",
      "4  0.0        0.0  0.0   0.0  0.000000  0.0  0.0  0.000000  0.0     0.0  ...   \n",
      "\n",
      "   volzhsky  voronezh  voronež  warehouse  white  xl_3  xxi   yakutsk  \\\n",
      "0  0.000000       0.0      0.0        0.0    0.0   0.0  0.0  0.449958   \n",
      "1  0.000000       0.0      0.0        0.0    0.0   0.0  0.0  0.481477   \n",
      "2  0.000000       0.0      0.0        0.0    0.0   0.0  0.0  0.000000   \n",
      "3  0.000000       0.0      0.0        0.0    0.0   0.0  0.0  0.000000   \n",
      "4  0.554122       0.0      0.0        0.0    0.0   0.0  0.0  0.000000   \n",
      "\n",
      "   yaroslavl  zhukovsky  \n",
      "0        0.0        0.0  \n",
      "1        0.0        0.0  \n",
      "2        0.0        0.0  \n",
      "3        0.0        0.0  \n",
      "4        0.0        0.0  \n",
      "\n",
      "[5 rows x 118 columns]\n"
     ]
    },
    {
     "output_type": "stream",
     "name": "stderr",
     "text": [
      "C:\\Users\\Ivan\\AppData\\Local\\Packages\\PythonSoftwareFoundation.Python.3.9_qbz5n2kfra8p0\\LocalCache\\local-packages\\Python39\\site-packages\\sklearn\\utils\\deprecation.py:87: FutureWarning: Function get_feature_names is deprecated; get_feature_names is deprecated in 1.0 and will be removed in 1.2. Please use get_feature_names_out instead.\n",
      "  warnings.warn(msg, category=FutureWarning)\n"
     ]
    }
   ],
   "metadata": {}
  },
  {
   "cell_type": "markdown",
   "source": [
    "Now that we have added numeric categorical features, as well as numeric shop name features,\r\n",
    "we are going to incorporate into the item_categories and shops by their respective IDs."
   ],
   "metadata": {}
  },
  {
   "cell_type": "code",
   "execution_count": 14,
   "source": [
    "shop_num.head(5)\r\n",
    "#shops.merge(shop_num,how='left',on='shop_id')"
   ],
   "outputs": [
    {
     "output_type": "execute_result",
     "data": {
      "text/html": [
       "<div>\n",
       "<style scoped>\n",
       "    .dataframe tbody tr th:only-of-type {\n",
       "        vertical-align: middle;\n",
       "    }\n",
       "\n",
       "    .dataframe tbody tr th {\n",
       "        vertical-align: top;\n",
       "    }\n",
       "\n",
       "    .dataframe thead th {\n",
       "        text-align: right;\n",
       "    }\n",
       "</style>\n",
       "<table border=\"1\" class=\"dataframe\">\n",
       "  <thead>\n",
       "    <tr style=\"text-align: right;\">\n",
       "      <th></th>\n",
       "      <th>13</th>\n",
       "      <th>1c_online</th>\n",
       "      <th>39m</th>\n",
       "      <th>39m²</th>\n",
       "      <th>56</th>\n",
       "      <th>7i</th>\n",
       "      <th>a2</th>\n",
       "      <th>adygea</th>\n",
       "      <th>afi</th>\n",
       "      <th>altair</th>\n",
       "      <th>...</th>\n",
       "      <th>volzhsky</th>\n",
       "      <th>voronezh</th>\n",
       "      <th>voronež</th>\n",
       "      <th>warehouse</th>\n",
       "      <th>white</th>\n",
       "      <th>xl_3</th>\n",
       "      <th>xxi</th>\n",
       "      <th>yakutsk</th>\n",
       "      <th>yaroslavl</th>\n",
       "      <th>zhukovsky</th>\n",
       "    </tr>\n",
       "  </thead>\n",
       "  <tbody>\n",
       "    <tr>\n",
       "      <th>0</th>\n",
       "      <td>0.0</td>\n",
       "      <td>0.0</td>\n",
       "      <td>0.0</td>\n",
       "      <td>0.0</td>\n",
       "      <td>0.515602</td>\n",
       "      <td>0.0</td>\n",
       "      <td>0.0</td>\n",
       "      <td>0.000000</td>\n",
       "      <td>0.0</td>\n",
       "      <td>0.0</td>\n",
       "      <td>...</td>\n",
       "      <td>0.000000</td>\n",
       "      <td>0.0</td>\n",
       "      <td>0.0</td>\n",
       "      <td>0.0</td>\n",
       "      <td>0.0</td>\n",
       "      <td>0.0</td>\n",
       "      <td>0.0</td>\n",
       "      <td>0.449958</td>\n",
       "      <td>0.0</td>\n",
       "      <td>0.0</td>\n",
       "    </tr>\n",
       "    <tr>\n",
       "      <th>1</th>\n",
       "      <td>0.0</td>\n",
       "      <td>0.0</td>\n",
       "      <td>0.0</td>\n",
       "      <td>0.0</td>\n",
       "      <td>0.000000</td>\n",
       "      <td>0.0</td>\n",
       "      <td>0.0</td>\n",
       "      <td>0.000000</td>\n",
       "      <td>0.0</td>\n",
       "      <td>0.0</td>\n",
       "      <td>...</td>\n",
       "      <td>0.000000</td>\n",
       "      <td>0.0</td>\n",
       "      <td>0.0</td>\n",
       "      <td>0.0</td>\n",
       "      <td>0.0</td>\n",
       "      <td>0.0</td>\n",
       "      <td>0.0</td>\n",
       "      <td>0.481477</td>\n",
       "      <td>0.0</td>\n",
       "      <td>0.0</td>\n",
       "    </tr>\n",
       "    <tr>\n",
       "      <th>2</th>\n",
       "      <td>0.0</td>\n",
       "      <td>0.0</td>\n",
       "      <td>0.0</td>\n",
       "      <td>0.0</td>\n",
       "      <td>0.000000</td>\n",
       "      <td>0.0</td>\n",
       "      <td>0.0</td>\n",
       "      <td>0.761716</td>\n",
       "      <td>0.0</td>\n",
       "      <td>0.0</td>\n",
       "      <td>...</td>\n",
       "      <td>0.000000</td>\n",
       "      <td>0.0</td>\n",
       "      <td>0.0</td>\n",
       "      <td>0.0</td>\n",
       "      <td>0.0</td>\n",
       "      <td>0.0</td>\n",
       "      <td>0.0</td>\n",
       "      <td>0.000000</td>\n",
       "      <td>0.0</td>\n",
       "      <td>0.0</td>\n",
       "    </tr>\n",
       "    <tr>\n",
       "      <th>3</th>\n",
       "      <td>0.0</td>\n",
       "      <td>0.0</td>\n",
       "      <td>0.0</td>\n",
       "      <td>0.0</td>\n",
       "      <td>0.000000</td>\n",
       "      <td>0.0</td>\n",
       "      <td>0.0</td>\n",
       "      <td>0.000000</td>\n",
       "      <td>0.0</td>\n",
       "      <td>0.0</td>\n",
       "      <td>...</td>\n",
       "      <td>0.000000</td>\n",
       "      <td>0.0</td>\n",
       "      <td>0.0</td>\n",
       "      <td>0.0</td>\n",
       "      <td>0.0</td>\n",
       "      <td>0.0</td>\n",
       "      <td>0.0</td>\n",
       "      <td>0.000000</td>\n",
       "      <td>0.0</td>\n",
       "      <td>0.0</td>\n",
       "    </tr>\n",
       "    <tr>\n",
       "      <th>4</th>\n",
       "      <td>0.0</td>\n",
       "      <td>0.0</td>\n",
       "      <td>0.0</td>\n",
       "      <td>0.0</td>\n",
       "      <td>0.000000</td>\n",
       "      <td>0.0</td>\n",
       "      <td>0.0</td>\n",
       "      <td>0.000000</td>\n",
       "      <td>0.0</td>\n",
       "      <td>0.0</td>\n",
       "      <td>...</td>\n",
       "      <td>0.554122</td>\n",
       "      <td>0.0</td>\n",
       "      <td>0.0</td>\n",
       "      <td>0.0</td>\n",
       "      <td>0.0</td>\n",
       "      <td>0.0</td>\n",
       "      <td>0.0</td>\n",
       "      <td>0.000000</td>\n",
       "      <td>0.0</td>\n",
       "      <td>0.0</td>\n",
       "    </tr>\n",
       "  </tbody>\n",
       "</table>\n",
       "<p>5 rows × 118 columns</p>\n",
       "</div>"
      ],
      "text/plain": [
       "    13  1c_online  39m  39m²        56   7i   a2    adygea  afi  altair  ...  \\\n",
       "0  0.0        0.0  0.0   0.0  0.515602  0.0  0.0  0.000000  0.0     0.0  ...   \n",
       "1  0.0        0.0  0.0   0.0  0.000000  0.0  0.0  0.000000  0.0     0.0  ...   \n",
       "2  0.0        0.0  0.0   0.0  0.000000  0.0  0.0  0.761716  0.0     0.0  ...   \n",
       "3  0.0        0.0  0.0   0.0  0.000000  0.0  0.0  0.000000  0.0     0.0  ...   \n",
       "4  0.0        0.0  0.0   0.0  0.000000  0.0  0.0  0.000000  0.0     0.0  ...   \n",
       "\n",
       "   volzhsky  voronezh  voronež  warehouse  white  xl_3  xxi   yakutsk  \\\n",
       "0  0.000000       0.0      0.0        0.0    0.0   0.0  0.0  0.449958   \n",
       "1  0.000000       0.0      0.0        0.0    0.0   0.0  0.0  0.481477   \n",
       "2  0.000000       0.0      0.0        0.0    0.0   0.0  0.0  0.000000   \n",
       "3  0.000000       0.0      0.0        0.0    0.0   0.0  0.0  0.000000   \n",
       "4  0.554122       0.0      0.0        0.0    0.0   0.0  0.0  0.000000   \n",
       "\n",
       "   yaroslavl  zhukovsky  \n",
       "0        0.0        0.0  \n",
       "1        0.0        0.0  \n",
       "2        0.0        0.0  \n",
       "3        0.0        0.0  \n",
       "4        0.0        0.0  \n",
       "\n",
       "[5 rows x 118 columns]"
      ]
     },
     "metadata": {},
     "execution_count": 14
    }
   ],
   "metadata": {}
  },
  {
   "cell_type": "code",
   "execution_count": 15,
   "source": [
    "shop_num['shop_id']=shops['shop_id']\r\n",
    "#shopss=shops.merge(shop_num,how='')"
   ],
   "outputs": [],
   "metadata": {}
  },
  {
   "cell_type": "code",
   "execution_count": 16,
   "source": [
    "shopsnew=shop_num.merge(shops,how='left',on='shop_id')"
   ],
   "outputs": [],
   "metadata": {}
  },
  {
   "cell_type": "code",
   "execution_count": 17,
   "source": [
    "shopsnew.head(3).T"
   ],
   "outputs": [
    {
     "output_type": "execute_result",
     "data": {
      "text/html": [
       "<div>\n",
       "<style scoped>\n",
       "    .dataframe tbody tr th:only-of-type {\n",
       "        vertical-align: middle;\n",
       "    }\n",
       "\n",
       "    .dataframe tbody tr th {\n",
       "        vertical-align: top;\n",
       "    }\n",
       "\n",
       "    .dataframe thead th {\n",
       "        text-align: right;\n",
       "    }\n",
       "</style>\n",
       "<table border=\"1\" class=\"dataframe\">\n",
       "  <thead>\n",
       "    <tr style=\"text-align: right;\">\n",
       "      <th></th>\n",
       "      <th>0</th>\n",
       "      <th>1</th>\n",
       "      <th>2</th>\n",
       "    </tr>\n",
       "  </thead>\n",
       "  <tbody>\n",
       "    <tr>\n",
       "      <th>13</th>\n",
       "      <td>0.0</td>\n",
       "      <td>0.0</td>\n",
       "      <td>0.0</td>\n",
       "    </tr>\n",
       "    <tr>\n",
       "      <th>1c_online</th>\n",
       "      <td>0.0</td>\n",
       "      <td>0.0</td>\n",
       "      <td>0.0</td>\n",
       "    </tr>\n",
       "    <tr>\n",
       "      <th>39m</th>\n",
       "      <td>0.0</td>\n",
       "      <td>0.0</td>\n",
       "      <td>0.0</td>\n",
       "    </tr>\n",
       "    <tr>\n",
       "      <th>39m²</th>\n",
       "      <td>0.0</td>\n",
       "      <td>0.0</td>\n",
       "      <td>0.0</td>\n",
       "    </tr>\n",
       "    <tr>\n",
       "      <th>56</th>\n",
       "      <td>0.515602</td>\n",
       "      <td>0.0</td>\n",
       "      <td>0.0</td>\n",
       "    </tr>\n",
       "    <tr>\n",
       "      <th>...</th>\n",
       "      <td>...</td>\n",
       "      <td>...</td>\n",
       "      <td>...</td>\n",
       "    </tr>\n",
       "    <tr>\n",
       "      <th>yakutsk</th>\n",
       "      <td>0.449958</td>\n",
       "      <td>0.481477</td>\n",
       "      <td>0.0</td>\n",
       "    </tr>\n",
       "    <tr>\n",
       "      <th>yaroslavl</th>\n",
       "      <td>0.0</td>\n",
       "      <td>0.0</td>\n",
       "      <td>0.0</td>\n",
       "    </tr>\n",
       "    <tr>\n",
       "      <th>zhukovsky</th>\n",
       "      <td>0.0</td>\n",
       "      <td>0.0</td>\n",
       "      <td>0.0</td>\n",
       "    </tr>\n",
       "    <tr>\n",
       "      <th>shop_id</th>\n",
       "      <td>0</td>\n",
       "      <td>1</td>\n",
       "      <td>2</td>\n",
       "    </tr>\n",
       "    <tr>\n",
       "      <th>shop_name</th>\n",
       "      <td>yakutsk ordzhonikidze 56 fran</td>\n",
       "      <td>yakutsk shoppe center `` central `` fran</td>\n",
       "      <td>adygea tc `` mega ``</td>\n",
       "    </tr>\n",
       "  </tbody>\n",
       "</table>\n",
       "<p>120 rows × 3 columns</p>\n",
       "</div>"
      ],
      "text/plain": [
       "                                       0  \\\n",
       "13                                   0.0   \n",
       "1c_online                            0.0   \n",
       "39m                                  0.0   \n",
       "39m²                                 0.0   \n",
       "56                              0.515602   \n",
       "...                                  ...   \n",
       "yakutsk                         0.449958   \n",
       "yaroslavl                            0.0   \n",
       "zhukovsky                            0.0   \n",
       "shop_id                                0   \n",
       "shop_name  yakutsk ordzhonikidze 56 fran   \n",
       "\n",
       "                                                  1                     2  \n",
       "13                                              0.0                   0.0  \n",
       "1c_online                                       0.0                   0.0  \n",
       "39m                                             0.0                   0.0  \n",
       "39m²                                            0.0                   0.0  \n",
       "56                                              0.0                   0.0  \n",
       "...                                             ...                   ...  \n",
       "yakutsk                                    0.481477                   0.0  \n",
       "yaroslavl                                       0.0                   0.0  \n",
       "zhukovsky                                       0.0                   0.0  \n",
       "shop_id                                           1                     2  \n",
       "shop_name  yakutsk shoppe center `` central `` fran  adygea tc `` mega ``  \n",
       "\n",
       "[120 rows x 3 columns]"
      ]
     },
     "metadata": {},
     "execution_count": 17
    }
   ],
   "metadata": {}
  },
  {
   "cell_type": "code",
   "execution_count": 18,
   "source": [
    "# since we already transformed 'shops' text to a new dataframe 'shopsnew', lets make a transformed dataframe for categories\r\n",
    "item_categories.head(3).T"
   ],
   "outputs": [
    {
     "output_type": "execute_result",
     "data": {
      "text/html": [
       "<div>\n",
       "<style scoped>\n",
       "    .dataframe tbody tr th:only-of-type {\n",
       "        vertical-align: middle;\n",
       "    }\n",
       "\n",
       "    .dataframe tbody tr th {\n",
       "        vertical-align: top;\n",
       "    }\n",
       "\n",
       "    .dataframe thead th {\n",
       "        text-align: right;\n",
       "    }\n",
       "</style>\n",
       "<table border=\"1\" class=\"dataframe\">\n",
       "  <thead>\n",
       "    <tr style=\"text-align: right;\">\n",
       "      <th></th>\n",
       "      <th>0</th>\n",
       "      <th>1</th>\n",
       "      <th>2</th>\n",
       "    </tr>\n",
       "  </thead>\n",
       "  <tbody>\n",
       "    <tr>\n",
       "      <th>item_category_name</th>\n",
       "      <td>pc headset headphone</td>\n",
       "      <td>accessory ps2</td>\n",
       "      <td>accessory ps3</td>\n",
       "    </tr>\n",
       "    <tr>\n",
       "      <th>item_category_id</th>\n",
       "      <td>0</td>\n",
       "      <td>1</td>\n",
       "      <td>2</td>\n",
       "    </tr>\n",
       "  </tbody>\n",
       "</table>\n",
       "</div>"
      ],
      "text/plain": [
       "                                       0              1              2\n",
       "item_category_name  pc headset headphone  accessory ps2  accessory ps3\n",
       "item_category_id                       0              1              2"
      ]
     },
     "metadata": {},
     "execution_count": 18
    }
   ],
   "metadata": {}
  },
  {
   "cell_type": "code",
   "execution_count": 19,
   "source": [
    "item_cat_num.columns"
   ],
   "outputs": [
    {
     "output_type": "execute_result",
     "data": {
      "text/plain": [
       "Index(['1c', '3d', '4k', 'accessory', 'additional', 'album', 'android',\n",
       "       'artbooks', 'attribute', 'audiobooks', 'bag', 'blu_ray', 'board',\n",
       "       'book', 'business', 'card', 'cd', 'certificate', 'cinema', 'clean',\n",
       "       'cognitive', 'collectible', 'collectivity', 'comic', 'compact',\n",
       "       'computer', 'console', 'corporate', 'delivery', 'development', 'digit',\n",
       "       'dvd', 'edition', 'educational', 'element', 'encyclopedia',\n",
       "       'enterprise', 'fiction', 'figure', 'film', 'gadget', 'game', 'gift',\n",
       "       'good', 'guidebook', 'headphone', 'headset', 'hitch', 'home',\n",
       "       'literature', 'live', 'local', 'mac', 'manga', 'material', 'medium',\n",
       "       'methodological', 'mouse', 'mp3', 'music', 'number', 'office',\n",
       "       'payment', 'pc', 'piece', 'postcard', 'power', 'production', 'program',\n",
       "       'ps2', 'ps3', 'ps4', 'psn', 'psp', 'psvita', 'robot', 'rug', 'service',\n",
       "       'soft', 'souvenir', 'spire', 'sport', 'standard', 'sticker', 'ticket',\n",
       "       'toy', 'traine', 'video', 'vinyl', 'window', 'xbox_360', 'xbox_one',\n",
       "       'игры'],\n",
       "      dtype='object')"
      ]
     },
     "metadata": {},
     "execution_count": 19
    }
   ],
   "metadata": {}
  },
  {
   "cell_type": "code",
   "execution_count": 20,
   "source": [
    "item_cat_num['item_category_id']=item_categories.item_category_id\r\n",
    "item_categoriesnew=pd.merge(item_categories,item_cat_num,on='item_category_id')"
   ],
   "outputs": [],
   "metadata": {}
  },
  {
   "cell_type": "code",
   "execution_count": 21,
   "source": [
    "item_categoriesnew.head(3).T\r\n",
    "item_categoriesnew.shape\r\n",
    "shopsnew.shape"
   ],
   "outputs": [
    {
     "output_type": "execute_result",
     "data": {
      "text/plain": [
       "(60, 120)"
      ]
     },
     "metadata": {},
     "execution_count": 21
    }
   ],
   "metadata": {}
  },
  {
   "cell_type": "markdown",
   "source": [
    "### 2.3 Extracting numeric features and cleaning <a name=\"Tag2.3\"></a> \r\n",
    "most numeric features lies within sales, so let's describe it and clean it"
   ],
   "metadata": {}
  },
  {
   "cell_type": "code",
   "execution_count": 22,
   "source": [
    "print(sales_train.head(5).T)\r\n",
    "sales_train.describe()"
   ],
   "outputs": [
    {
     "output_type": "stream",
     "name": "stdout",
     "text": [
      "                                  0                    1                    2  \\\n",
      "date            2013-01-02 00:00:00  2013-01-03 00:00:00  2013-01-05 00:00:00   \n",
      "date_block_num                    0                    0                    0   \n",
      "shop_id                          59                   25                   25   \n",
      "item_id                       22154                 2552                 2552   \n",
      "item_price                    999.0                899.0                899.0   \n",
      "item_cnt_day                    1.0                  1.0                 -1.0   \n",
      "\n",
      "                                  3                    4  \n",
      "date            2013-01-06 00:00:00  2013-01-15 00:00:00  \n",
      "date_block_num                    0                    0  \n",
      "shop_id                          25                   25  \n",
      "item_id                        2554                 2555  \n",
      "item_price                  1709.05               1099.0  \n",
      "item_cnt_day                    1.0                  1.0  \n"
     ]
    },
    {
     "output_type": "execute_result",
     "data": {
      "text/html": [
       "<div>\n",
       "<style scoped>\n",
       "    .dataframe tbody tr th:only-of-type {\n",
       "        vertical-align: middle;\n",
       "    }\n",
       "\n",
       "    .dataframe tbody tr th {\n",
       "        vertical-align: top;\n",
       "    }\n",
       "\n",
       "    .dataframe thead th {\n",
       "        text-align: right;\n",
       "    }\n",
       "</style>\n",
       "<table border=\"1\" class=\"dataframe\">\n",
       "  <thead>\n",
       "    <tr style=\"text-align: right;\">\n",
       "      <th></th>\n",
       "      <th>date_block_num</th>\n",
       "      <th>shop_id</th>\n",
       "      <th>item_id</th>\n",
       "      <th>item_price</th>\n",
       "      <th>item_cnt_day</th>\n",
       "    </tr>\n",
       "  </thead>\n",
       "  <tbody>\n",
       "    <tr>\n",
       "      <th>count</th>\n",
       "      <td>2.935849e+06</td>\n",
       "      <td>2.935849e+06</td>\n",
       "      <td>2.935849e+06</td>\n",
       "      <td>2.935849e+06</td>\n",
       "      <td>2.935849e+06</td>\n",
       "    </tr>\n",
       "    <tr>\n",
       "      <th>mean</th>\n",
       "      <td>1.456991e+01</td>\n",
       "      <td>3.300173e+01</td>\n",
       "      <td>1.019723e+04</td>\n",
       "      <td>8.908532e+02</td>\n",
       "      <td>1.242641e+00</td>\n",
       "    </tr>\n",
       "    <tr>\n",
       "      <th>std</th>\n",
       "      <td>9.422988e+00</td>\n",
       "      <td>1.622697e+01</td>\n",
       "      <td>6.324297e+03</td>\n",
       "      <td>1.729800e+03</td>\n",
       "      <td>2.618834e+00</td>\n",
       "    </tr>\n",
       "    <tr>\n",
       "      <th>min</th>\n",
       "      <td>0.000000e+00</td>\n",
       "      <td>0.000000e+00</td>\n",
       "      <td>0.000000e+00</td>\n",
       "      <td>-1.000000e+00</td>\n",
       "      <td>-2.200000e+01</td>\n",
       "    </tr>\n",
       "    <tr>\n",
       "      <th>25%</th>\n",
       "      <td>7.000000e+00</td>\n",
       "      <td>2.200000e+01</td>\n",
       "      <td>4.476000e+03</td>\n",
       "      <td>2.490000e+02</td>\n",
       "      <td>1.000000e+00</td>\n",
       "    </tr>\n",
       "    <tr>\n",
       "      <th>50%</th>\n",
       "      <td>1.400000e+01</td>\n",
       "      <td>3.100000e+01</td>\n",
       "      <td>9.343000e+03</td>\n",
       "      <td>3.990000e+02</td>\n",
       "      <td>1.000000e+00</td>\n",
       "    </tr>\n",
       "    <tr>\n",
       "      <th>75%</th>\n",
       "      <td>2.300000e+01</td>\n",
       "      <td>4.700000e+01</td>\n",
       "      <td>1.568400e+04</td>\n",
       "      <td>9.990000e+02</td>\n",
       "      <td>1.000000e+00</td>\n",
       "    </tr>\n",
       "    <tr>\n",
       "      <th>max</th>\n",
       "      <td>3.300000e+01</td>\n",
       "      <td>5.900000e+01</td>\n",
       "      <td>2.216900e+04</td>\n",
       "      <td>3.079800e+05</td>\n",
       "      <td>2.169000e+03</td>\n",
       "    </tr>\n",
       "  </tbody>\n",
       "</table>\n",
       "</div>"
      ],
      "text/plain": [
       "       date_block_num       shop_id       item_id    item_price  item_cnt_day\n",
       "count    2.935849e+06  2.935849e+06  2.935849e+06  2.935849e+06  2.935849e+06\n",
       "mean     1.456991e+01  3.300173e+01  1.019723e+04  8.908532e+02  1.242641e+00\n",
       "std      9.422988e+00  1.622697e+01  6.324297e+03  1.729800e+03  2.618834e+00\n",
       "min      0.000000e+00  0.000000e+00  0.000000e+00 -1.000000e+00 -2.200000e+01\n",
       "25%      7.000000e+00  2.200000e+01  4.476000e+03  2.490000e+02  1.000000e+00\n",
       "50%      1.400000e+01  3.100000e+01  9.343000e+03  3.990000e+02  1.000000e+00\n",
       "75%      2.300000e+01  4.700000e+01  1.568400e+04  9.990000e+02  1.000000e+00\n",
       "max      3.300000e+01  5.900000e+01  2.216900e+04  3.079800e+05  2.169000e+03"
      ]
     },
     "metadata": {},
     "execution_count": 22
    }
   ],
   "metadata": {}
  },
  {
   "cell_type": "code",
   "execution_count": 23,
   "source": [
    "# Impute outliers, price cannot go negative\r\n",
    "sales_train[sales_train.item_price<0].head(5)\r\n",
    "priceimpute=sales_train[sales_train.item_price>0].median()\r\n",
    "print(priceimpute)"
   ],
   "outputs": [
    {
     "output_type": "stream",
     "name": "stdout",
     "text": [
      "date_block_num      14.0\n",
      "shop_id             31.0\n",
      "item_id           9343.0\n",
      "item_price         399.0\n",
      "item_cnt_day         1.0\n",
      "dtype: float64\n"
     ]
    },
    {
     "output_type": "stream",
     "name": "stderr",
     "text": [
      "C:\\Users\\Ivan\\AppData\\Local\\Temp/ipykernel_7412/1074712210.py:3: FutureWarning: DataFrame.mean and DataFrame.median with numeric_only=None will include datetime64 and datetime64tz columns in a future version.\n",
      "  priceimpute=sales_train[sales_train.item_price>0].median()\n"
     ]
    }
   ],
   "metadata": {}
  },
  {
   "cell_type": "code",
   "execution_count": 24,
   "source": [
    "plt.figure(figsize=(10,5))\r\n",
    "plt.xlim(sales_train.item_price.min(), sales_train.item_price.max()*1.2)\r\n",
    "plt.title ('item_price in raw training dataset')\r\n",
    "sns.boxplot(x=sales_train.item_price)"
   ],
   "outputs": [
    {
     "output_type": "execute_result",
     "data": {
      "text/plain": [
       "<AxesSubplot:title={'center':'item_price in raw training dataset'}, xlabel='item_price'>"
      ]
     },
     "metadata": {},
     "execution_count": 24
    },
    {
     "output_type": "display_data",
     "data": {
      "image/png": "[encoded data removed]",
      "text/plain": [
       "<Figure size 720x360 with 1 Axes>"
      ]
     },
     "metadata": {
      "needs_background": "light"
     }
    }
   ],
   "metadata": {}
  },
  {
   "cell_type": "code",
   "execution_count": 25,
   "source": [
    "sales_train.loc[sales_train.item_price>300000,'item_price']=priceimpute.item_price\r\n",
    "sales_train.loc[sales_train.item_price<0,'item_price']=priceimpute.item_price\r\n",
    "# We also see that items priced 300K is an outlier, impute it with median as well\r\n",
    "# impute the data point which has outlier pricing\r\n",
    "plt.figure(figsize=(10,5))\r\n",
    "plt.xlim(sales_train.item_price.min(), sales_train.item_price.max()*1.2)\r\n",
    "plt.title ('item_price in raw training dataset (after imputing)')\r\n",
    "sns.boxplot(x=sales_train.item_price)"
   ],
   "outputs": [
    {
     "output_type": "execute_result",
     "data": {
      "text/plain": [
       "<AxesSubplot:title={'center':'item_price in raw training dataset (after imputing)'}, xlabel='item_price'>"
      ]
     },
     "metadata": {},
     "execution_count": 25
    },
    {
     "output_type": "display_data",
     "data": {
      "image/png": "[encoded data removed]",
      "text/plain": [
       "<Figure size 720x360 with 1 Axes>"
      ]
     },
     "metadata": {
      "needs_background": "light"
     }
    }
   ],
   "metadata": {}
  },
  {
   "cell_type": "markdown",
   "source": [
    "### 3. EDA and CV dataset preparation <a name=\"Tag3\"></a> \r\n",
    "Next, we will need to calculate the accumulated monthly sale and add it to sales_train\r\n",
    "In order to do that, we must account for all possible unique shop_id and item_id ,construct a big set\r\n",
    "and group by these features. \r\n",
    "we will combine the test dataset as well \r\n"
   ],
   "metadata": {}
  },
  {
   "cell_type": "code",
   "execution_count": 26,
   "source": [
    "# For every month we create a grid from all shops/items combinations from that month\r\n",
    "index_cols = ['shop_id', 'item_id', 'date_block_num']\r\n",
    "\r\n",
    "# For every month we create a grid from all shops/items combinations from that month\r\n",
    "grid = []\r\n",
    "for block_num in sales_train['date_block_num'].unique():\r\n",
    "    cur_shops = sales_train.loc[sales_train['date_block_num'] == block_num, 'shop_id'].unique()\r\n",
    "    cur_items = sales_train.loc[sales_train['date_block_num'] == block_num, 'item_id'].unique()\r\n",
    "    grid.append(np.array(list(product(*[cur_shops, cur_items, [block_num]])),dtype='int32'))\r\n",
    "\r\n",
    "grid = pd.DataFrame(np.vstack(grid), columns = index_cols, dtype=np.int32)"
   ],
   "outputs": [],
   "metadata": {}
  },
  {
   "cell_type": "code",
   "execution_count": 27,
   "source": [
    "test_block = 34\r\n",
    "test['date_block_num'] = test_block\r\n",
    "test = test.drop(columns=['ID'])\r\n",
    "grid = pd.concat([grid, test])"
   ],
   "outputs": [],
   "metadata": {}
  },
  {
   "cell_type": "code",
   "execution_count": 28,
   "source": [
    "# Groupby data to get shop-item-month aggregates\r\n",
    "gb = sales_train.groupby(index_cols, as_index=False)['item_cnt_day'].sum()\r\n",
    "gb = gb.rename(columns={'item_cnt_day': 'target'})\r\n",
    "all_data = pd.merge(grid, gb, how='left', on=index_cols).fillna(0)\r\n",
    "\r\n",
    "# Same as above but with shop-month aggregates\r\n",
    "gb = sales_train.groupby(['shop_id', 'date_block_num'], as_index=False)['item_cnt_day'].sum()\r\n",
    "gb = gb.rename(columns={'item_cnt_day': 'target_shop'})\r\n",
    "all_data = pd.merge(all_data, gb, how='left', on=['shop_id', 'date_block_num']).fillna(0)\r\n",
    "\r\n",
    "# Same as above but with item-month aggregates\r\n",
    "gb = sales_train.groupby(['item_id', 'date_block_num'], as_index=False)['item_cnt_day'].sum()\r\n",
    "gb = gb.rename(columns={'item_cnt_day': 'target_item'})\r\n",
    "all_data = pd.merge(all_data, gb, how='left', on=['item_id', 'date_block_num']).fillna(0)\r\n",
    "\r\n",
    "# lastly, add back the item_price column\r\n",
    "all_data= pd.merge(all_data, sales_train, how='left', left_on=['item_id', 'shop_id','date_block_num'],right_on=['item_id', 'shop_id','date_block_num']).fillna(0)\r\n",
    "\r\n",
    "# Downcast dtypes from 64 to 32 bit to save memory\r\n",
    "all_data = downcast_dtypes(all_data)\r\n",
    "del grid, gb \r\n",
    "gc.collect()"
   ],
   "outputs": [
    {
     "output_type": "execute_result",
     "data": {
      "text/plain": [
       "0"
      ]
     },
     "metadata": {},
     "execution_count": 28
    }
   ],
   "metadata": {}
  },
  {
   "cell_type": "code",
   "execution_count": 29,
   "source": [
    "all_data.pop('date')\r\n",
    "all_data.pop('item_cnt_day')\r\n",
    "# we don't need these anymore since we already have the month info and item_cnt_month(target)\r\n",
    "all_data.info()\r\n",
    "# garbage collection code to handle memory issues further- probably not needed. \r\n",
    "# Referred to Abhishekmamidi123 at github"
   ],
   "outputs": [
    {
     "output_type": "stream",
     "name": "stdout",
     "text": [
      "<class 'pandas.core.frame.DataFrame'>\n",
      "Int64Index: 12454775 entries, 0 to 12454774\n",
      "Data columns (total 7 columns):\n",
      " #   Column          Dtype  \n",
      "---  ------          -----  \n",
      " 0   shop_id         int16  \n",
      " 1   item_id         int16  \n",
      " 2   date_block_num  int16  \n",
      " 3   target          float32\n",
      " 4   target_shop     float32\n",
      " 5   target_item     float32\n",
      " 6   item_price      float32\n",
      "dtypes: float32(4), int16(3)\n",
      "memory usage: 356.3 MB\n"
     ]
    }
   ],
   "metadata": {}
  },
  {
   "cell_type": "markdown",
   "source": [
    "We can see that some feature names are the same, so let's merge all of the raw data in a single file \r\n",
    "Be careful for this part : for training data set, we want to be exhaustive of all possible values of features, so we do outer join merge\r\n",
    "for test dataset, we only want to account for item_categories that agrees with that is provided in the competition (item_id and shop_id)"
   ],
   "metadata": {}
  },
  {
   "cell_type": "code",
   "execution_count": 30,
   "source": [
    "all_data.shape"
   ],
   "outputs": [
    {
     "output_type": "execute_result",
     "data": {
      "text/plain": [
       "(12454775, 7)"
      ]
     },
     "metadata": {},
     "execution_count": 30
    }
   ],
   "metadata": {}
  },
  {
   "cell_type": "code",
   "execution_count": 31,
   "source": [
    "all_data.info()"
   ],
   "outputs": [
    {
     "output_type": "stream",
     "name": "stdout",
     "text": [
      "<class 'pandas.core.frame.DataFrame'>\n",
      "Int64Index: 12454775 entries, 0 to 12454774\n",
      "Data columns (total 7 columns):\n",
      " #   Column          Dtype  \n",
      "---  ------          -----  \n",
      " 0   shop_id         int16  \n",
      " 1   item_id         int16  \n",
      " 2   date_block_num  int16  \n",
      " 3   target          float32\n",
      " 4   target_shop     float32\n",
      " 5   target_item     float32\n",
      " 6   item_price      float32\n",
      "dtypes: float32(4), int16(3)\n",
      "memory usage: 356.3 MB\n"
     ]
    }
   ],
   "metadata": {}
  },
  {
   "cell_type": "markdown",
   "source": [
    "We get a merged train-test dataset with all numeric features insofar.\r\n",
    "Since we still have extracted text-to-number features saved in shopsnew with foreign key 'shop_id', and item_categoriesnew with foreign key 'item_category_id', we can merge them into the combined set\r\n",
    "\r\n",
    "However, we already know that we have generated text-derived numeric features and they have lots of columns.\r\n",
    "shopsnew has 100+ features and item_categories has 90+ features. They are all very sparse. Merging sales_train with 11m rows with these will consume too much memory. We need to compress these sparse features. Since words freq are not negative, we can do NMF transform"
   ],
   "metadata": {}
  },
  {
   "cell_type": "code",
   "execution_count": 32,
   "source": [
    "allitems=items.merge(item_categoriesnew,on='item_category_id')\r\n",
    "allshops=shops.merge(shopsnew,on='shop_id')"
   ],
   "outputs": [],
   "metadata": {}
  },
  {
   "cell_type": "code",
   "execution_count": 33,
   "source": [
    "shopsnew.head(5).T"
   ],
   "outputs": [
    {
     "output_type": "execute_result",
     "data": {
      "text/html": [
       "<div>\n",
       "<style scoped>\n",
       "    .dataframe tbody tr th:only-of-type {\n",
       "        vertical-align: middle;\n",
       "    }\n",
       "\n",
       "    .dataframe tbody tr th {\n",
       "        vertical-align: top;\n",
       "    }\n",
       "\n",
       "    .dataframe thead th {\n",
       "        text-align: right;\n",
       "    }\n",
       "</style>\n",
       "<table border=\"1\" class=\"dataframe\">\n",
       "  <thead>\n",
       "    <tr style=\"text-align: right;\">\n",
       "      <th></th>\n",
       "      <th>0</th>\n",
       "      <th>1</th>\n",
       "      <th>2</th>\n",
       "      <th>3</th>\n",
       "      <th>4</th>\n",
       "    </tr>\n",
       "  </thead>\n",
       "  <tbody>\n",
       "    <tr>\n",
       "      <th>13</th>\n",
       "      <td>0.0</td>\n",
       "      <td>0.0</td>\n",
       "      <td>0.0</td>\n",
       "      <td>0.0</td>\n",
       "      <td>0.0</td>\n",
       "    </tr>\n",
       "    <tr>\n",
       "      <th>1c_online</th>\n",
       "      <td>0.0</td>\n",
       "      <td>0.0</td>\n",
       "      <td>0.0</td>\n",
       "      <td>0.0</td>\n",
       "      <td>0.0</td>\n",
       "    </tr>\n",
       "    <tr>\n",
       "      <th>39m</th>\n",
       "      <td>0.0</td>\n",
       "      <td>0.0</td>\n",
       "      <td>0.0</td>\n",
       "      <td>0.0</td>\n",
       "      <td>0.0</td>\n",
       "    </tr>\n",
       "    <tr>\n",
       "      <th>39m²</th>\n",
       "      <td>0.0</td>\n",
       "      <td>0.0</td>\n",
       "      <td>0.0</td>\n",
       "      <td>0.0</td>\n",
       "      <td>0.0</td>\n",
       "    </tr>\n",
       "    <tr>\n",
       "      <th>56</th>\n",
       "      <td>0.515602</td>\n",
       "      <td>0.0</td>\n",
       "      <td>0.0</td>\n",
       "      <td>0.0</td>\n",
       "      <td>0.0</td>\n",
       "    </tr>\n",
       "    <tr>\n",
       "      <th>...</th>\n",
       "      <td>...</td>\n",
       "      <td>...</td>\n",
       "      <td>...</td>\n",
       "      <td>...</td>\n",
       "      <td>...</td>\n",
       "    </tr>\n",
       "    <tr>\n",
       "      <th>yakutsk</th>\n",
       "      <td>0.449958</td>\n",
       "      <td>0.481477</td>\n",
       "      <td>0.0</td>\n",
       "      <td>0.0</td>\n",
       "      <td>0.0</td>\n",
       "    </tr>\n",
       "    <tr>\n",
       "      <th>yaroslavl</th>\n",
       "      <td>0.0</td>\n",
       "      <td>0.0</td>\n",
       "      <td>0.0</td>\n",
       "      <td>0.0</td>\n",
       "      <td>0.0</td>\n",
       "    </tr>\n",
       "    <tr>\n",
       "      <th>zhukovsky</th>\n",
       "      <td>0.0</td>\n",
       "      <td>0.0</td>\n",
       "      <td>0.0</td>\n",
       "      <td>0.0</td>\n",
       "      <td>0.0</td>\n",
       "    </tr>\n",
       "    <tr>\n",
       "      <th>shop_id</th>\n",
       "      <td>0</td>\n",
       "      <td>1</td>\n",
       "      <td>2</td>\n",
       "      <td>3</td>\n",
       "      <td>4</td>\n",
       "    </tr>\n",
       "    <tr>\n",
       "      <th>shop_name</th>\n",
       "      <td>yakutsk ordzhonikidze 56 fran</td>\n",
       "      <td>yakutsk shoppe center `` central `` fran</td>\n",
       "      <td>adygea tc `` mega ``</td>\n",
       "      <td>balashikha trk `` october_kinomir ``</td>\n",
       "      <td>volzhsky shoppe center `` volga mall ``</td>\n",
       "    </tr>\n",
       "  </tbody>\n",
       "</table>\n",
       "<p>120 rows × 5 columns</p>\n",
       "</div>"
      ],
      "text/plain": [
       "                                       0  \\\n",
       "13                                   0.0   \n",
       "1c_online                            0.0   \n",
       "39m                                  0.0   \n",
       "39m²                                 0.0   \n",
       "56                              0.515602   \n",
       "...                                  ...   \n",
       "yakutsk                         0.449958   \n",
       "yaroslavl                            0.0   \n",
       "zhukovsky                            0.0   \n",
       "shop_id                                0   \n",
       "shop_name  yakutsk ordzhonikidze 56 fran   \n",
       "\n",
       "                                                  1                     2  \\\n",
       "13                                              0.0                   0.0   \n",
       "1c_online                                       0.0                   0.0   \n",
       "39m                                             0.0                   0.0   \n",
       "39m²                                            0.0                   0.0   \n",
       "56                                              0.0                   0.0   \n",
       "...                                             ...                   ...   \n",
       "yakutsk                                    0.481477                   0.0   \n",
       "yaroslavl                                       0.0                   0.0   \n",
       "zhukovsky                                       0.0                   0.0   \n",
       "shop_id                                           1                     2   \n",
       "shop_name  yakutsk shoppe center `` central `` fran  adygea tc `` mega ``   \n",
       "\n",
       "                                              3  \\\n",
       "13                                          0.0   \n",
       "1c_online                                   0.0   \n",
       "39m                                         0.0   \n",
       "39m²                                        0.0   \n",
       "56                                          0.0   \n",
       "...                                         ...   \n",
       "yakutsk                                     0.0   \n",
       "yaroslavl                                   0.0   \n",
       "zhukovsky                                   0.0   \n",
       "shop_id                                       3   \n",
       "shop_name  balashikha trk `` october_kinomir ``   \n",
       "\n",
       "                                                 4  \n",
       "13                                             0.0  \n",
       "1c_online                                      0.0  \n",
       "39m                                            0.0  \n",
       "39m²                                           0.0  \n",
       "56                                             0.0  \n",
       "...                                            ...  \n",
       "yakutsk                                        0.0  \n",
       "yaroslavl                                      0.0  \n",
       "zhukovsky                                      0.0  \n",
       "shop_id                                          4  \n",
       "shop_name  volzhsky shoppe center `` volga mall ``  \n",
       "\n",
       "[120 rows x 5 columns]"
      ]
     },
     "metadata": {},
     "execution_count": 33
    }
   ],
   "metadata": {}
  },
  {
   "cell_type": "code",
   "execution_count": 34,
   "source": [
    "# list top 10 shop name categories - see 'top words' figure I plotted. Most frequenly used words>3 are here\r\n",
    "shopsnew.pop('shop_name')\r\n",
    "modelnmf=NMF(n_components=10)\r\n",
    "modelnmf.fit(shopsnew)\r\n",
    "nmf_shopname=modelnmf.transform(shopsnew)"
   ],
   "outputs": [
    {
     "output_type": "stream",
     "name": "stderr",
     "text": [
      "C:\\Users\\Ivan\\AppData\\Local\\Packages\\PythonSoftwareFoundation.Python.3.9_qbz5n2kfra8p0\\LocalCache\\local-packages\\Python39\\site-packages\\sklearn\\decomposition\\_nmf.py:289: FutureWarning: The 'init' value, when 'init=None' and n_components is less than n_samples and n_features, will be changed from 'nndsvd' to 'nndsvda' in 1.1 (renaming of 0.26).\n",
      "  warnings.warn(\n",
      "C:\\Users\\Ivan\\AppData\\Local\\Packages\\PythonSoftwareFoundation.Python.3.9_qbz5n2kfra8p0\\LocalCache\\local-packages\\Python39\\site-packages\\sklearn\\decomposition\\_nmf.py:1637: ConvergenceWarning: Maximum number of iterations 200 reached. Increase it to improve convergence.\n",
      "  warnings.warn(\n"
     ]
    }
   ],
   "metadata": {}
  },
  {
   "cell_type": "code",
   "execution_count": 35,
   "source": [
    "shopsnmf=pd.DataFrame(nmf_shopname)\r\n",
    "shopsnmf['shop_id']=shops.shop_id"
   ],
   "outputs": [],
   "metadata": {}
  },
  {
   "cell_type": "code",
   "execution_count": 36,
   "source": [
    "shopsnmf.columns=['shopcat0','shopcat1','shopcat2','shopcat3','shopcat4','shopcat5','shopcat6','shopcat7',\r\n",
    "'shopcat8','shopcat9','shop_id']"
   ],
   "outputs": [],
   "metadata": {}
  },
  {
   "cell_type": "code",
   "execution_count": 37,
   "source": [
    "shopsnmf.head(5)"
   ],
   "outputs": [
    {
     "output_type": "execute_result",
     "data": {
      "text/html": [
       "<div>\n",
       "<style scoped>\n",
       "    .dataframe tbody tr th:only-of-type {\n",
       "        vertical-align: middle;\n",
       "    }\n",
       "\n",
       "    .dataframe tbody tr th {\n",
       "        vertical-align: top;\n",
       "    }\n",
       "\n",
       "    .dataframe thead th {\n",
       "        text-align: right;\n",
       "    }\n",
       "</style>\n",
       "<table border=\"1\" class=\"dataframe\">\n",
       "  <thead>\n",
       "    <tr style=\"text-align: right;\">\n",
       "      <th></th>\n",
       "      <th>shopcat0</th>\n",
       "      <th>shopcat1</th>\n",
       "      <th>shopcat2</th>\n",
       "      <th>shopcat3</th>\n",
       "      <th>shopcat4</th>\n",
       "      <th>shopcat5</th>\n",
       "      <th>shopcat6</th>\n",
       "      <th>shopcat7</th>\n",
       "      <th>shopcat8</th>\n",
       "      <th>shopcat9</th>\n",
       "      <th>shop_id</th>\n",
       "    </tr>\n",
       "  </thead>\n",
       "  <tbody>\n",
       "    <tr>\n",
       "      <th>0</th>\n",
       "      <td>0.000000</td>\n",
       "      <td>0.000000</td>\n",
       "      <td>0.000000</td>\n",
       "      <td>0.000000</td>\n",
       "      <td>6.568640e-01</td>\n",
       "      <td>0.000000</td>\n",
       "      <td>0.0</td>\n",
       "      <td>0.000000</td>\n",
       "      <td>0.000000e+00</td>\n",
       "      <td>0.000000</td>\n",
       "      <td>0</td>\n",
       "    </tr>\n",
       "    <tr>\n",
       "      <th>1</th>\n",
       "      <td>0.060618</td>\n",
       "      <td>0.203924</td>\n",
       "      <td>0.025949</td>\n",
       "      <td>0.000000</td>\n",
       "      <td>4.403157e-01</td>\n",
       "      <td>0.000000</td>\n",
       "      <td>0.0</td>\n",
       "      <td>0.000000</td>\n",
       "      <td>0.000000e+00</td>\n",
       "      <td>0.000000</td>\n",
       "      <td>1</td>\n",
       "    </tr>\n",
       "    <tr>\n",
       "      <th>2</th>\n",
       "      <td>0.122036</td>\n",
       "      <td>0.000000</td>\n",
       "      <td>0.009682</td>\n",
       "      <td>0.000000</td>\n",
       "      <td>0.000000e+00</td>\n",
       "      <td>0.000000</td>\n",
       "      <td>0.0</td>\n",
       "      <td>0.369699</td>\n",
       "      <td>6.679130e-07</td>\n",
       "      <td>0.000000</td>\n",
       "      <td>2</td>\n",
       "    </tr>\n",
       "    <tr>\n",
       "      <th>3</th>\n",
       "      <td>0.183649</td>\n",
       "      <td>0.000000</td>\n",
       "      <td>0.000000</td>\n",
       "      <td>0.000000</td>\n",
       "      <td>9.020426e-09</td>\n",
       "      <td>0.000000</td>\n",
       "      <td>0.0</td>\n",
       "      <td>0.000000</td>\n",
       "      <td>0.000000e+00</td>\n",
       "      <td>0.365548</td>\n",
       "      <td>3</td>\n",
       "    </tr>\n",
       "    <tr>\n",
       "      <th>4</th>\n",
       "      <td>0.244698</td>\n",
       "      <td>0.225871</td>\n",
       "      <td>0.000000</td>\n",
       "      <td>0.009341</td>\n",
       "      <td>0.000000e+00</td>\n",
       "      <td>0.121658</td>\n",
       "      <td>0.0</td>\n",
       "      <td>0.000000</td>\n",
       "      <td>0.000000e+00</td>\n",
       "      <td>0.000000</td>\n",
       "      <td>4</td>\n",
       "    </tr>\n",
       "  </tbody>\n",
       "</table>\n",
       "</div>"
      ],
      "text/plain": [
       "   shopcat0  shopcat1  shopcat2  shopcat3      shopcat4  shopcat5  shopcat6  \\\n",
       "0  0.000000  0.000000  0.000000  0.000000  6.568640e-01  0.000000       0.0   \n",
       "1  0.060618  0.203924  0.025949  0.000000  4.403157e-01  0.000000       0.0   \n",
       "2  0.122036  0.000000  0.009682  0.000000  0.000000e+00  0.000000       0.0   \n",
       "3  0.183649  0.000000  0.000000  0.000000  9.020426e-09  0.000000       0.0   \n",
       "4  0.244698  0.225871  0.000000  0.009341  0.000000e+00  0.121658       0.0   \n",
       "\n",
       "   shopcat7      shopcat8  shopcat9  shop_id  \n",
       "0  0.000000  0.000000e+00  0.000000        0  \n",
       "1  0.000000  0.000000e+00  0.000000        1  \n",
       "2  0.369699  6.679130e-07  0.000000        2  \n",
       "3  0.000000  0.000000e+00  0.365548        3  \n",
       "4  0.000000  0.000000e+00  0.000000        4  "
      ]
     },
     "metadata": {},
     "execution_count": 37
    }
   ],
   "metadata": {}
  },
  {
   "cell_type": "code",
   "execution_count": 38,
   "source": [
    "all_data=all_data.merge(shopsnmf,on='shop_id')\r\n",
    "all_data.isnull().values.any()\r\n",
    "# make sure no nans"
   ],
   "outputs": [
    {
     "output_type": "execute_result",
     "data": {
      "text/plain": [
       "False"
      ]
     },
     "metadata": {},
     "execution_count": 38
    }
   ],
   "metadata": {}
  },
  {
   "cell_type": "code",
   "execution_count": 39,
   "source": [
    "# similarlly we do nmf transform to the item_name text-to-numeric features\r\n",
    "item_categoriesnew.pop('item_category_name')\r\n",
    "modelnmf=NMF(n_components=10)\r\n",
    "modelnmf.fit(item_categoriesnew)\r\n",
    "nmf_catname=modelnmf.transform(item_categoriesnew)"
   ],
   "outputs": [
    {
     "output_type": "stream",
     "name": "stderr",
     "text": [
      "C:\\Users\\Ivan\\AppData\\Local\\Packages\\PythonSoftwareFoundation.Python.3.9_qbz5n2kfra8p0\\LocalCache\\local-packages\\Python39\\site-packages\\sklearn\\decomposition\\_nmf.py:289: FutureWarning: The 'init' value, when 'init=None' and n_components is less than n_samples and n_features, will be changed from 'nndsvd' to 'nndsvda' in 1.1 (renaming of 0.26).\n",
      "  warnings.warn(\n",
      "C:\\Users\\Ivan\\AppData\\Local\\Packages\\PythonSoftwareFoundation.Python.3.9_qbz5n2kfra8p0\\LocalCache\\local-packages\\Python39\\site-packages\\sklearn\\decomposition\\_nmf.py:1637: ConvergenceWarning: Maximum number of iterations 200 reached. Increase it to improve convergence.\n",
      "  warnings.warn(\n"
     ]
    }
   ],
   "metadata": {}
  },
  {
   "cell_type": "code",
   "execution_count": 40,
   "source": [
    "print(nmf_catname.shape)\r\n",
    "print(items.columns)\r\n"
   ],
   "outputs": [
    {
     "output_type": "stream",
     "name": "stdout",
     "text": [
      "(84, 10)\n",
      "Index(['item_name', 'item_id', 'item_category_id'], dtype='object')\n"
     ]
    }
   ],
   "metadata": {}
  },
  {
   "cell_type": "code",
   "execution_count": 41,
   "source": [
    "itemcatnmf=pd.DataFrame(nmf_catname)\r\n",
    "itemcatnmf['item_category_id']=item_categories.item_category_id\r\n",
    "print(itemcatnmf.head(5))"
   ],
   "outputs": [
    {
     "output_type": "stream",
     "name": "stdout",
     "text": [
      "          0    1    2         3    4    5        6             7    8    9  \\\n",
      "0  0.000000  0.0  0.0  0.000000  0.0  0.0  0.31242  0.000000e+00  0.0  0.0   \n",
      "1  0.047119  0.0  0.0  0.463194  0.0  0.0  0.00000  2.433042e-07  0.0  0.0   \n",
      "2  0.094764  0.0  0.0  0.463182  0.0  0.0  0.00000  0.000000e+00  0.0  0.0   \n",
      "3  0.142409  0.0  0.0  0.463171  0.0  0.0  0.00000  0.000000e+00  0.0  0.0   \n",
      "4  0.190054  0.0  0.0  0.463160  0.0  0.0  0.00000  0.000000e+00  0.0  0.0   \n",
      "\n",
      "   item_category_id  \n",
      "0                 0  \n",
      "1                 1  \n",
      "2                 2  \n",
      "3                 3  \n",
      "4                 4  \n"
     ]
    }
   ],
   "metadata": {}
  },
  {
   "cell_type": "code",
   "execution_count": 42,
   "source": [
    "itemcatnmf.columns=['itemcat0','itemcat1','itemcat2','itemcat3','itemcat4','itemcat5','itemcat6','itemcat7','itemcat8','itemcat9','item_category_id']\r\n",
    "itemcatnmf.shape"
   ],
   "outputs": [
    {
     "output_type": "execute_result",
     "data": {
      "text/plain": [
       "(84, 11)"
      ]
     },
     "metadata": {},
     "execution_count": 42
    }
   ],
   "metadata": {}
  },
  {
   "cell_type": "code",
   "execution_count": 43,
   "source": [
    "all_items=items.merge(itemcatnmf,on='item_category_id')\r\n",
    "all_items.pop('item_name')\r\n",
    "all_items.head(5)"
   ],
   "outputs": [
    {
     "output_type": "execute_result",
     "data": {
      "text/html": [
       "<div>\n",
       "<style scoped>\n",
       "    .dataframe tbody tr th:only-of-type {\n",
       "        vertical-align: middle;\n",
       "    }\n",
       "\n",
       "    .dataframe tbody tr th {\n",
       "        vertical-align: top;\n",
       "    }\n",
       "\n",
       "    .dataframe thead th {\n",
       "        text-align: right;\n",
       "    }\n",
       "</style>\n",
       "<table border=\"1\" class=\"dataframe\">\n",
       "  <thead>\n",
       "    <tr style=\"text-align: right;\">\n",
       "      <th></th>\n",
       "      <th>item_id</th>\n",
       "      <th>item_category_id</th>\n",
       "      <th>itemcat0</th>\n",
       "      <th>itemcat1</th>\n",
       "      <th>itemcat2</th>\n",
       "      <th>itemcat3</th>\n",
       "      <th>itemcat4</th>\n",
       "      <th>itemcat5</th>\n",
       "      <th>itemcat6</th>\n",
       "      <th>itemcat7</th>\n",
       "      <th>itemcat8</th>\n",
       "      <th>itemcat9</th>\n",
       "    </tr>\n",
       "  </thead>\n",
       "  <tbody>\n",
       "    <tr>\n",
       "      <th>0</th>\n",
       "      <td>0</td>\n",
       "      <td>40</td>\n",
       "      <td>1.903922</td>\n",
       "      <td>0.0</td>\n",
       "      <td>0.0</td>\n",
       "      <td>0.0</td>\n",
       "      <td>0.0</td>\n",
       "      <td>0.0</td>\n",
       "      <td>0.0</td>\n",
       "      <td>0.0</td>\n",
       "      <td>0.511251</td>\n",
       "      <td>0.0</td>\n",
       "    </tr>\n",
       "    <tr>\n",
       "      <th>1</th>\n",
       "      <td>2</td>\n",
       "      <td>40</td>\n",
       "      <td>1.903922</td>\n",
       "      <td>0.0</td>\n",
       "      <td>0.0</td>\n",
       "      <td>0.0</td>\n",
       "      <td>0.0</td>\n",
       "      <td>0.0</td>\n",
       "      <td>0.0</td>\n",
       "      <td>0.0</td>\n",
       "      <td>0.511251</td>\n",
       "      <td>0.0</td>\n",
       "    </tr>\n",
       "    <tr>\n",
       "      <th>2</th>\n",
       "      <td>3</td>\n",
       "      <td>40</td>\n",
       "      <td>1.903922</td>\n",
       "      <td>0.0</td>\n",
       "      <td>0.0</td>\n",
       "      <td>0.0</td>\n",
       "      <td>0.0</td>\n",
       "      <td>0.0</td>\n",
       "      <td>0.0</td>\n",
       "      <td>0.0</td>\n",
       "      <td>0.511251</td>\n",
       "      <td>0.0</td>\n",
       "    </tr>\n",
       "    <tr>\n",
       "      <th>3</th>\n",
       "      <td>4</td>\n",
       "      <td>40</td>\n",
       "      <td>1.903922</td>\n",
       "      <td>0.0</td>\n",
       "      <td>0.0</td>\n",
       "      <td>0.0</td>\n",
       "      <td>0.0</td>\n",
       "      <td>0.0</td>\n",
       "      <td>0.0</td>\n",
       "      <td>0.0</td>\n",
       "      <td>0.511251</td>\n",
       "      <td>0.0</td>\n",
       "    </tr>\n",
       "    <tr>\n",
       "      <th>4</th>\n",
       "      <td>5</td>\n",
       "      <td>40</td>\n",
       "      <td>1.903922</td>\n",
       "      <td>0.0</td>\n",
       "      <td>0.0</td>\n",
       "      <td>0.0</td>\n",
       "      <td>0.0</td>\n",
       "      <td>0.0</td>\n",
       "      <td>0.0</td>\n",
       "      <td>0.0</td>\n",
       "      <td>0.511251</td>\n",
       "      <td>0.0</td>\n",
       "    </tr>\n",
       "  </tbody>\n",
       "</table>\n",
       "</div>"
      ],
      "text/plain": [
       "   item_id  item_category_id  itemcat0  itemcat1  itemcat2  itemcat3  \\\n",
       "0        0                40  1.903922       0.0       0.0       0.0   \n",
       "1        2                40  1.903922       0.0       0.0       0.0   \n",
       "2        3                40  1.903922       0.0       0.0       0.0   \n",
       "3        4                40  1.903922       0.0       0.0       0.0   \n",
       "4        5                40  1.903922       0.0       0.0       0.0   \n",
       "\n",
       "   itemcat4  itemcat5  itemcat6  itemcat7  itemcat8  itemcat9  \n",
       "0       0.0       0.0       0.0       0.0  0.511251       0.0  \n",
       "1       0.0       0.0       0.0       0.0  0.511251       0.0  \n",
       "2       0.0       0.0       0.0       0.0  0.511251       0.0  \n",
       "3       0.0       0.0       0.0       0.0  0.511251       0.0  \n",
       "4       0.0       0.0       0.0       0.0  0.511251       0.0  "
      ]
     },
     "metadata": {},
     "execution_count": 43
    }
   ],
   "metadata": {}
  },
  {
   "cell_type": "code",
   "execution_count": 44,
   "source": [
    "all_data=all_data.merge(all_items,on='item_id')\r\n",
    "all_data.isnull().values.any()\r\n",
    "# check if any data is nan"
   ],
   "outputs": [
    {
     "output_type": "execute_result",
     "data": {
      "text/plain": [
       "False"
      ]
     },
     "metadata": {},
     "execution_count": 44
    }
   ],
   "metadata": {}
  },
  {
   "cell_type": "markdown",
   "source": [
    "Success ! Now we have a combined dataset with all possible shop_id, item_id and date_block_num. \r\n",
    "We can look at the header and describe it"
   ],
   "metadata": {}
  },
  {
   "cell_type": "code",
   "execution_count": 45,
   "source": [
    "all_data=downcast_dtypes(all_data)\r\n",
    "all_data.info()\r\n",
    "# It takes about 1.3G for thhe entire dataset sofar . Pure numeric, all text features are converted. "
   ],
   "outputs": [
    {
     "output_type": "stream",
     "name": "stdout",
     "text": [
      "<class 'pandas.core.frame.DataFrame'>\n",
      "Int64Index: 12454775 entries, 0 to 12454774\n",
      "Data columns (total 28 columns):\n",
      " #   Column            Dtype  \n",
      "---  ------            -----  \n",
      " 0   shop_id           int16  \n",
      " 1   item_id           int16  \n",
      " 2   date_block_num    int16  \n",
      " 3   target            float32\n",
      " 4   target_shop       float32\n",
      " 5   target_item       float32\n",
      " 6   item_price        float32\n",
      " 7   shopcat0          float32\n",
      " 8   shopcat1          float32\n",
      " 9   shopcat2          float32\n",
      " 10  shopcat3          float32\n",
      " 11  shopcat4          float32\n",
      " 12  shopcat5          float32\n",
      " 13  shopcat6          float32\n",
      " 14  shopcat7          float32\n",
      " 15  shopcat8          float32\n",
      " 16  shopcat9          float32\n",
      " 17  item_category_id  int16  \n",
      " 18  itemcat0          float32\n",
      " 19  itemcat1          float32\n",
      " 20  itemcat2          float32\n",
      " 21  itemcat3          float32\n",
      " 22  itemcat4          float32\n",
      " 23  itemcat5          float32\n",
      " 24  itemcat6          float32\n",
      " 25  itemcat7          float32\n",
      " 26  itemcat8          float32\n",
      " 27  itemcat9          float32\n",
      "dtypes: float32(24), int16(4)\n",
      "memory usage: 1.3 GB\n"
     ]
    }
   ],
   "metadata": {}
  },
  {
   "cell_type": "markdown",
   "source": [
    "### 3.1 Visualize general trends <a name=\"Tag3.1\"></a> \r\n",
    "Let's visualize the time series trend of sales first"
   ],
   "metadata": {}
  },
  {
   "cell_type": "code",
   "execution_count": 46,
   "source": [
    "item_cnt_month = all_data.groupby('date_block_num')['target'].sum()\r\n",
    "plt.figure(figsize=(15,5))\r\n",
    "sns.barplot(item_cnt_month.index, item_cnt_month.values)\r\n",
    "plt.plot(item_cnt_month.index, item_cnt_month.values)\r\n",
    "plt.xlabel(\"Month number\")\r\n",
    "plt.ylabel(\"Count\")\r\n",
    "plt.title(\"Number of items sold in each month, note that month 34 is to be predicted\")"
   ],
   "outputs": [
    {
     "output_type": "stream",
     "name": "stderr",
     "text": [
      "C:\\Users\\Ivan\\AppData\\Local\\Packages\\PythonSoftwareFoundation.Python.3.9_qbz5n2kfra8p0\\LocalCache\\local-packages\\Python39\\site-packages\\seaborn\\_decorators.py:36: FutureWarning: Pass the following variables as keyword args: x, y. From version 0.12, the only valid positional argument will be `data`, and passing other arguments without an explicit keyword will result in an error or misinterpretation.\n",
      "  warnings.warn(\n"
     ]
    },
    {
     "output_type": "execute_result",
     "data": {
      "text/plain": [
       "Text(0.5, 1.0, 'Number of items sold in each month, note that month 34 is to be predicted')"
      ]
     },
     "metadata": {},
     "execution_count": 46
    },
    {
     "output_type": "display_data",
     "data": {
      "image/png": "[encoded data removed]",
      "text/plain": [
       "<Figure size 1080x360 with 1 Axes>"
      ]
     },
     "metadata": {
      "needs_background": "light"
     }
    }
   ],
   "metadata": {}
  },
  {
   "cell_type": "code",
   "execution_count": 47,
   "source": [
    "# popular shop numbers\r\n",
    "popular_shops = all_data.groupby('shop_id')['target'].sum()\r\n",
    "popular_shops = popular_shops.sort_values(ascending=False)[:5]\r\n",
    "sns.barplot(popular_shops.index, popular_shops.values)\r\n",
    "plt.xlabel(\"Shop ID\")\r\n",
    "plt.ylabel(\"Count\")\r\n",
    "plt.title(\"Popular shops\")"
   ],
   "outputs": [
    {
     "output_type": "stream",
     "name": "stderr",
     "text": [
      "C:\\Users\\Ivan\\AppData\\Local\\Packages\\PythonSoftwareFoundation.Python.3.9_qbz5n2kfra8p0\\LocalCache\\local-packages\\Python39\\site-packages\\seaborn\\_decorators.py:36: FutureWarning: Pass the following variables as keyword args: x, y. From version 0.12, the only valid positional argument will be `data`, and passing other arguments without an explicit keyword will result in an error or misinterpretation.\n",
      "  warnings.warn(\n"
     ]
    },
    {
     "output_type": "execute_result",
     "data": {
      "text/plain": [
       "Text(0.5, 1.0, 'Popular shops')"
      ]
     },
     "metadata": {},
     "execution_count": 47
    },
    {
     "output_type": "display_data",
     "data": {
      "image/png": "[encoded data removed]",
      "text/plain": [
       "<Figure size 432x288 with 1 Axes>"
      ]
     },
     "metadata": {
      "needs_background": "light"
     }
    }
   ],
   "metadata": {}
  },
  {
   "cell_type": "code",
   "execution_count": 48,
   "source": [
    "all_data.columns"
   ],
   "outputs": [
    {
     "output_type": "execute_result",
     "data": {
      "text/plain": [
       "Index(['shop_id', 'item_id', 'date_block_num', 'target', 'target_shop',\n",
       "       'target_item', 'item_price', 'shopcat0', 'shopcat1', 'shopcat2',\n",
       "       'shopcat3', 'shopcat4', 'shopcat5', 'shopcat6', 'shopcat7', 'shopcat8',\n",
       "       'shopcat9', 'item_category_id', 'itemcat0', 'itemcat1', 'itemcat2',\n",
       "       'itemcat3', 'itemcat4', 'itemcat5', 'itemcat6', 'itemcat7', 'itemcat8',\n",
       "       'itemcat9'],\n",
       "      dtype='object')"
      ]
     },
     "metadata": {},
     "execution_count": 48
    }
   ],
   "metadata": {}
  },
  {
   "cell_type": "code",
   "execution_count": 49,
   "source": [
    "all_data.shape"
   ],
   "outputs": [
    {
     "output_type": "execute_result",
     "data": {
      "text/plain": [
       "(12454775, 28)"
      ]
     },
     "metadata": {},
     "execution_count": 49
    }
   ],
   "metadata": {}
  },
  {
   "cell_type": "code",
   "execution_count": 50,
   "source": [
    "# Lastly, we want to check the histogram of the target. The competition specifies that final output be clipped to \r\n",
    "# [0 20]. Let's see if it  makes sense or not\r\n",
    "plt.figure(figsize=(10,5))\r\n",
    "plt.title ('item_cnt_day histogram')\r\n",
    "plt.hist(x=all_data.target,bins=np.linspace(-20,40,31))  \r\n",
    "# the bins are from -20:2:40 \r\n",
    "plt.xlim(-20,40)\r\n",
    "plt.ylim(0,1e5)"
   ],
   "outputs": [
    {
     "output_type": "execute_result",
     "data": {
      "text/plain": [
       "(0.0, 100000.0)"
      ]
     },
     "metadata": {},
     "execution_count": 50
    },
    {
     "output_type": "display_data",
     "data": {
      "image/png": "[encoded data removed]",
      "text/plain": [
       "<Figure size 720x360 with 1 Axes>"
      ]
     },
     "metadata": {
      "needs_background": "light"
     }
    }
   ],
   "metadata": {}
  },
  {
   "cell_type": "markdown",
   "source": [
    "### 3.2 Data Leakage <a name=\"Tag3.2\"></a> \r\n",
    "Let's examine the pre-combination training and test data features, focusing on the indexing features\r\n",
    "shops_id and item_id"
   ],
   "metadata": {}
  },
  {
   "cell_type": "code",
   "execution_count": 51,
   "source": [
    "shop_idstrain = (sales_train['shop_id'].unique())  \r\n",
    "item_idstrain = (sales_train['item_id'].unique())\r\n",
    "shop_idstest  = (test['shop_id'].unique())\r\n",
    "item_idstest  = (test['item_id'].unique())\r\n",
    "# these above are arrays\r\n",
    "# we know that rain dataset has 60 unique shop and 21807 unique items while test dataset has 42 unique shops and 5100 unique items\r\n",
    "# To build a training dataset that includes all possible shopId and itemID, we need to use outer join instead of left or right join\r\n",
    "# Because it is possible that test dataset has shopID and itemID that is not  present in the training set\r\n",
    "\r\n",
    "all1=[]\r\n",
    "all2=[]\r\n",
    "all1          = pd.merge(pd.DataFrame(shop_idstrain),pd.DataFrame(shop_idstest),how='outer')\r\n",
    "all2          = pd.merge(pd.DataFrame(item_idstrain),pd.DataFrame(item_idstest),how='outer')\r\n",
    "shop_idsall   =all1.values\r\n",
    "item_idsall   =all2.values\r\n",
    "# these are also arrays\r\n",
    "\r\n",
    "\r\n",
    "print('Unique shops in training, test, and joined sets are')\r\n",
    "print(sales_train['shop_id'].nunique())\r\n",
    "print(test['shop_id'].nunique())\r\n",
    "print(shop_idsall.shape)\r\n",
    "print()\r\n",
    "print('Unique item in training, test and joined sets are')\r\n",
    "print(sales_train['item_id'].nunique())\r\n",
    "print(test['item_id'].nunique())\r\n",
    "print(item_idsall.shape)\r\n"
   ],
   "outputs": [
    {
     "output_type": "stream",
     "name": "stdout",
     "text": [
      "Unique shops in training, test, and joined sets are\n",
      "60\n",
      "42\n",
      "(60, 1)\n",
      "\n",
      "Unique item in training, test and joined sets are\n",
      "21807\n",
      "5100\n",
      "(22170, 1)\n"
     ]
    }
   ],
   "metadata": {}
  },
  {
   "cell_type": "markdown",
   "source": [
    "Because 21807 is less than 22170, we know that some items are only appearing in the test dataset.\r\n",
    "### 3.3 Construct training set <a name=\"Tag3.3\"></a> "
   ],
   "metadata": {}
  },
  {
   "cell_type": "code",
   "execution_count": 52,
   "source": [
    "all_data.head(5)"
   ],
   "outputs": [
    {
     "output_type": "execute_result",
     "data": {
      "text/html": [
       "<div>\n",
       "<style scoped>\n",
       "    .dataframe tbody tr th:only-of-type {\n",
       "        vertical-align: middle;\n",
       "    }\n",
       "\n",
       "    .dataframe tbody tr th {\n",
       "        vertical-align: top;\n",
       "    }\n",
       "\n",
       "    .dataframe thead th {\n",
       "        text-align: right;\n",
       "    }\n",
       "</style>\n",
       "<table border=\"1\" class=\"dataframe\">\n",
       "  <thead>\n",
       "    <tr style=\"text-align: right;\">\n",
       "      <th></th>\n",
       "      <th>shop_id</th>\n",
       "      <th>item_id</th>\n",
       "      <th>date_block_num</th>\n",
       "      <th>target</th>\n",
       "      <th>target_shop</th>\n",
       "      <th>target_item</th>\n",
       "      <th>item_price</th>\n",
       "      <th>shopcat0</th>\n",
       "      <th>shopcat1</th>\n",
       "      <th>shopcat2</th>\n",
       "      <th>...</th>\n",
       "      <th>itemcat0</th>\n",
       "      <th>itemcat1</th>\n",
       "      <th>itemcat2</th>\n",
       "      <th>itemcat3</th>\n",
       "      <th>itemcat4</th>\n",
       "      <th>itemcat5</th>\n",
       "      <th>itemcat6</th>\n",
       "      <th>itemcat7</th>\n",
       "      <th>itemcat8</th>\n",
       "      <th>itemcat9</th>\n",
       "    </tr>\n",
       "  </thead>\n",
       "  <tbody>\n",
       "    <tr>\n",
       "      <th>0</th>\n",
       "      <td>59</td>\n",
       "      <td>22154</td>\n",
       "      <td>0</td>\n",
       "      <td>1.0</td>\n",
       "      <td>2017.0</td>\n",
       "      <td>18.0</td>\n",
       "      <td>999.0</td>\n",
       "      <td>3.623603</td>\n",
       "      <td>0.23524</td>\n",
       "      <td>0.0</td>\n",
       "      <td>...</td>\n",
       "      <td>1.761517</td>\n",
       "      <td>0.0</td>\n",
       "      <td>0.0</td>\n",
       "      <td>0.0</td>\n",
       "      <td>0.0</td>\n",
       "      <td>0.0</td>\n",
       "      <td>0.0</td>\n",
       "      <td>0.0</td>\n",
       "      <td>0.366313</td>\n",
       "      <td>0.0</td>\n",
       "    </tr>\n",
       "    <tr>\n",
       "      <th>1</th>\n",
       "      <td>59</td>\n",
       "      <td>22154</td>\n",
       "      <td>1</td>\n",
       "      <td>0.0</td>\n",
       "      <td>1897.0</td>\n",
       "      <td>6.0</td>\n",
       "      <td>0.0</td>\n",
       "      <td>3.623603</td>\n",
       "      <td>0.23524</td>\n",
       "      <td>0.0</td>\n",
       "      <td>...</td>\n",
       "      <td>1.761517</td>\n",
       "      <td>0.0</td>\n",
       "      <td>0.0</td>\n",
       "      <td>0.0</td>\n",
       "      <td>0.0</td>\n",
       "      <td>0.0</td>\n",
       "      <td>0.0</td>\n",
       "      <td>0.0</td>\n",
       "      <td>0.366313</td>\n",
       "      <td>0.0</td>\n",
       "    </tr>\n",
       "    <tr>\n",
       "      <th>2</th>\n",
       "      <td>59</td>\n",
       "      <td>22154</td>\n",
       "      <td>2</td>\n",
       "      <td>0.0</td>\n",
       "      <td>2028.0</td>\n",
       "      <td>2.0</td>\n",
       "      <td>0.0</td>\n",
       "      <td>3.623603</td>\n",
       "      <td>0.23524</td>\n",
       "      <td>0.0</td>\n",
       "      <td>...</td>\n",
       "      <td>1.761517</td>\n",
       "      <td>0.0</td>\n",
       "      <td>0.0</td>\n",
       "      <td>0.0</td>\n",
       "      <td>0.0</td>\n",
       "      <td>0.0</td>\n",
       "      <td>0.0</td>\n",
       "      <td>0.0</td>\n",
       "      <td>0.366313</td>\n",
       "      <td>0.0</td>\n",
       "    </tr>\n",
       "    <tr>\n",
       "      <th>3</th>\n",
       "      <td>59</td>\n",
       "      <td>22154</td>\n",
       "      <td>3</td>\n",
       "      <td>0.0</td>\n",
       "      <td>1388.0</td>\n",
       "      <td>3.0</td>\n",
       "      <td>0.0</td>\n",
       "      <td>3.623603</td>\n",
       "      <td>0.23524</td>\n",
       "      <td>0.0</td>\n",
       "      <td>...</td>\n",
       "      <td>1.761517</td>\n",
       "      <td>0.0</td>\n",
       "      <td>0.0</td>\n",
       "      <td>0.0</td>\n",
       "      <td>0.0</td>\n",
       "      <td>0.0</td>\n",
       "      <td>0.0</td>\n",
       "      <td>0.0</td>\n",
       "      <td>0.366313</td>\n",
       "      <td>0.0</td>\n",
       "    </tr>\n",
       "    <tr>\n",
       "      <th>4</th>\n",
       "      <td>59</td>\n",
       "      <td>22154</td>\n",
       "      <td>7</td>\n",
       "      <td>0.0</td>\n",
       "      <td>2048.0</td>\n",
       "      <td>2.0</td>\n",
       "      <td>0.0</td>\n",
       "      <td>3.623603</td>\n",
       "      <td>0.23524</td>\n",
       "      <td>0.0</td>\n",
       "      <td>...</td>\n",
       "      <td>1.761517</td>\n",
       "      <td>0.0</td>\n",
       "      <td>0.0</td>\n",
       "      <td>0.0</td>\n",
       "      <td>0.0</td>\n",
       "      <td>0.0</td>\n",
       "      <td>0.0</td>\n",
       "      <td>0.0</td>\n",
       "      <td>0.366313</td>\n",
       "      <td>0.0</td>\n",
       "    </tr>\n",
       "  </tbody>\n",
       "</table>\n",
       "<p>5 rows × 28 columns</p>\n",
       "</div>"
      ],
      "text/plain": [
       "   shop_id  item_id  date_block_num  target  target_shop  target_item  \\\n",
       "0       59    22154               0     1.0       2017.0         18.0   \n",
       "1       59    22154               1     0.0       1897.0          6.0   \n",
       "2       59    22154               2     0.0       2028.0          2.0   \n",
       "3       59    22154               3     0.0       1388.0          3.0   \n",
       "4       59    22154               7     0.0       2048.0          2.0   \n",
       "\n",
       "   item_price  shopcat0  shopcat1  shopcat2  ...  itemcat0  itemcat1  \\\n",
       "0       999.0  3.623603   0.23524       0.0  ...  1.761517       0.0   \n",
       "1         0.0  3.623603   0.23524       0.0  ...  1.761517       0.0   \n",
       "2         0.0  3.623603   0.23524       0.0  ...  1.761517       0.0   \n",
       "3         0.0  3.623603   0.23524       0.0  ...  1.761517       0.0   \n",
       "4         0.0  3.623603   0.23524       0.0  ...  1.761517       0.0   \n",
       "\n",
       "   itemcat2  itemcat3  itemcat4  itemcat5  itemcat6  itemcat7  itemcat8  \\\n",
       "0       0.0       0.0       0.0       0.0       0.0       0.0  0.366313   \n",
       "1       0.0       0.0       0.0       0.0       0.0       0.0  0.366313   \n",
       "2       0.0       0.0       0.0       0.0       0.0       0.0  0.366313   \n",
       "3       0.0       0.0       0.0       0.0       0.0       0.0  0.366313   \n",
       "4       0.0       0.0       0.0       0.0       0.0       0.0  0.366313   \n",
       "\n",
       "   itemcat9  \n",
       "0       0.0  \n",
       "1       0.0  \n",
       "2       0.0  \n",
       "3       0.0  \n",
       "4       0.0  \n",
       "\n",
       "[5 rows x 28 columns]"
      ]
     },
     "metadata": {},
     "execution_count": 52
    }
   ],
   "metadata": {}
  },
  {
   "cell_type": "markdown",
   "source": [
    "Here we formulate train-split strategies: \r\n",
    "First, we understand that there are still shop_id, item_id,date_block_num, that are certainly categorical features and are discrete. We would need to perform label encoding or mean encoding to better separate them. It has to be done after the split\r\n",
    "Secondly, we can still do more feature engineering on these categorical features. We can conver date_block_num to month and year (1 feature to 3 features)\r\n",
    "Thirdly, we can add time-lagging features for target( sales of item_cnt_month), add previous 1,2,3,12 month target as predictive features\r\n",
    "Lastly, train_test split should be performed with such that validation set right precedes date_block_num 34 to account time series"
   ],
   "metadata": {}
  },
  {
   "cell_type": "code",
   "execution_count": 53,
   "source": [
    "# More feature engineering - add month and year data\r\n",
    "all_data['year'] = all_data['date_block_num'].apply(lambda x: ((x//12) + 2013))\r\n",
    "all_data['month']= all_data['date_block_num'].apply(lambda x: (x % 12)+ 1 )"
   ],
   "outputs": [],
   "metadata": {}
  },
  {
   "cell_type": "code",
   "execution_count": 54,
   "source": [
    "all_data.columns"
   ],
   "outputs": [
    {
     "output_type": "execute_result",
     "data": {
      "text/plain": [
       "Index(['shop_id', 'item_id', 'date_block_num', 'target', 'target_shop',\n",
       "       'target_item', 'item_price', 'shopcat0', 'shopcat1', 'shopcat2',\n",
       "       'shopcat3', 'shopcat4', 'shopcat5', 'shopcat6', 'shopcat7', 'shopcat8',\n",
       "       'shopcat9', 'item_category_id', 'itemcat0', 'itemcat1', 'itemcat2',\n",
       "       'itemcat3', 'itemcat4', 'itemcat5', 'itemcat6', 'itemcat7', 'itemcat8',\n",
       "       'itemcat9', 'year', 'month'],\n",
       "      dtype='object')"
      ]
     },
     "metadata": {},
     "execution_count": 54
    }
   ],
   "metadata": {}
  },
  {
   "cell_type": "markdown",
   "source": [
    "### 3.4 Add numeric lag features <a name=\"Tag3.4\"></a> \r\n",
    "As we discussed, here we add previous month sale count (target) for the past 1,3,12 months, as well as for shop-specific target, item- specific target."
   ],
   "metadata": {}
  },
  {
   "cell_type": "code",
   "execution_count": 55,
   "source": [
    "lag_list = [1, 3,12]\r\n",
    "from tqdm import tqdm\r\n",
    "# create target lag (item_cnt_month) for 1,3,12 months\r\n",
    "for lag in tqdm(lag_list):\r\n",
    "    ft_name = ('target_lag%s' % lag)\r\n",
    "    all_data[ft_name] = all_data.sort_values('date_block_num').groupby(['shop_id', 'item_category_id', 'item_id'])['target'].shift(lag)\r\n",
    "    all_data[ft_name].fillna(0, inplace=True)"
   ],
   "outputs": [
    {
     "output_type": "stream",
     "name": "stderr",
     "text": [
      "100%|██████████| 3/3 [00:24<00:00,  8.01s/it]\n"
     ]
    }
   ],
   "metadata": {}
  },
  {
   "cell_type": "code",
   "execution_count": 56,
   "source": [
    "# create target_shop and target_item lag features for 1,3,12 months\r\n",
    "for lag in tqdm(lag_list):\r\n",
    "    ft_name = ('target_shoplag%s' % lag)\r\n",
    "    all_data[ft_name] = all_data.sort_values('date_block_num').groupby(['shop_id', 'item_category_id', 'item_id'])['target_shop'].shift(lag)\r\n",
    "    all_data[ft_name].fillna(0, inplace=True)"
   ],
   "outputs": [
    {
     "output_type": "stream",
     "name": "stderr",
     "text": [
      "100%|██████████| 3/3 [00:24<00:00,  8.32s/it]\n"
     ]
    }
   ],
   "metadata": {}
  },
  {
   "cell_type": "code",
   "execution_count": 57,
   "source": [
    "for lag in tqdm(lag_list):\r\n",
    "    ft_name = ('target_itemlag%s' % lag)\r\n",
    "    all_data[ft_name] = all_data.sort_values('date_block_num').groupby(['shop_id', 'item_category_id', 'item_id'])['target_item'].shift(lag)\r\n",
    "    all_data[ft_name].fillna(0, inplace=True)"
   ],
   "outputs": [
    {
     "output_type": "stream",
     "name": "stderr",
     "text": [
      "100%|██████████| 3/3 [00:26<00:00,  8.74s/it]\n"
     ]
    }
   ],
   "metadata": {}
  },
  {
   "cell_type": "markdown",
   "source": [
    "Now let's plot some trends of the data after the basic cleaning\r\n",
    "We want to see the sales trend with respect to different month , find out the popular items and shops"
   ],
   "metadata": {}
  },
  {
   "cell_type": "markdown",
   "source": [
    "### Section 3 EDA and feature extractions\r\n",
    "first, let's check the leakage between train and test set"
   ],
   "metadata": {}
  },
  {
   "cell_type": "code",
   "execution_count": 58,
   "source": [
    "all_data.info()"
   ],
   "outputs": [
    {
     "output_type": "stream",
     "name": "stdout",
     "text": [
      "<class 'pandas.core.frame.DataFrame'>\n",
      "Int64Index: 12454775 entries, 0 to 12454774\n",
      "Data columns (total 39 columns):\n",
      " #   Column            Dtype  \n",
      "---  ------            -----  \n",
      " 0   shop_id           int16  \n",
      " 1   item_id           int16  \n",
      " 2   date_block_num    int16  \n",
      " 3   target            float32\n",
      " 4   target_shop       float32\n",
      " 5   target_item       float32\n",
      " 6   item_price        float32\n",
      " 7   shopcat0          float32\n",
      " 8   shopcat1          float32\n",
      " 9   shopcat2          float32\n",
      " 10  shopcat3          float32\n",
      " 11  shopcat4          float32\n",
      " 12  shopcat5          float32\n",
      " 13  shopcat6          float32\n",
      " 14  shopcat7          float32\n",
      " 15  shopcat8          float32\n",
      " 16  shopcat9          float32\n",
      " 17  item_category_id  int16  \n",
      " 18  itemcat0          float32\n",
      " 19  itemcat1          float32\n",
      " 20  itemcat2          float32\n",
      " 21  itemcat3          float32\n",
      " 22  itemcat4          float32\n",
      " 23  itemcat5          float32\n",
      " 24  itemcat6          float32\n",
      " 25  itemcat7          float32\n",
      " 26  itemcat8          float32\n",
      " 27  itemcat9          float32\n",
      " 28  year              int64  \n",
      " 29  month             int64  \n",
      " 30  target_lag1       float32\n",
      " 31  target_lag3       float32\n",
      " 32  target_lag12      float32\n",
      " 33  target_shoplag1   float32\n",
      " 34  target_shoplag3   float32\n",
      " 35  target_shoplag12  float32\n",
      " 36  target_itemlag1   float32\n",
      " 37  target_itemlag3   float32\n",
      " 38  target_itemlag12  float32\n",
      "dtypes: float32(33), int16(4), int64(2)\n",
      "memory usage: 1.9 GB\n"
     ]
    }
   ],
   "metadata": {}
  },
  {
   "cell_type": "markdown",
   "source": [
    "### 3.5 Mean encoding categorical features  <a name=\"Tag3.5\"></a> \r\n",
    "we need to mean encode categorical features before finalize the datasets\r\n",
    "since we had done a shift of 12 month maximum, we can't use the first 12 months of data "
   ],
   "metadata": {}
  },
  {
   "cell_type": "code",
   "execution_count": 59,
   "source": [
    "# Let's discard the first 12 months before building models and use the rest of them\r\n",
    "# also enforce that each item corresponds to unique item_category_id. this will shrink CV combined dataset to 7million records. \r\n",
    "all_data = all_data[all_data['date_block_num'] >= 12]\r\n",
    "print(all_data.shape)\r\n",
    "#item_category_mapping = items[['item_id', 'item_category_id']].drop_duplicates()\r\n",
    "#all_data = pd.merge(all_data, item_category_mapping, how='left', on='item_id')\r\n",
    "# THIS ENSURES THAT category gets carried over to the all-data dataset  , both training and test\r\n",
    "all_data = downcast_dtypes(all_data)\r\n",
    "gc.collect()"
   ],
   "outputs": [
    {
     "output_type": "stream",
     "name": "stdout",
     "text": [
      "(7386181, 39)\n"
     ]
    },
    {
     "output_type": "execute_result",
     "data": {
      "text/plain": [
       "4461"
      ]
     },
     "metadata": {},
     "execution_count": 59
    }
   ],
   "metadata": {}
  },
  {
   "cell_type": "code",
   "execution_count": 60,
   "source": [
    "X_train     =all_data.query('date_block_num>12 and date_block_num<28').copy()\r\n",
    "X_validation=all_data.query('date_block_num>=28 and date_block_num<34').copy()\r\n",
    "X_test      =all_data.query('date_block_num==34').copy()\r\n",
    "all_train   =all_data.query('date_block_num<34').copy()"
   ],
   "outputs": [],
   "metadata": {}
  },
  {
   "cell_type": "markdown",
   "source": [
    "Therefore it is clear to us that training dataset does not include some of the test dataset item_id. We need expand training dataset to include all \r\n",
    "possible item_id\r\n",
    "Let's start with a null dataframe and build it"
   ],
   "metadata": {}
  },
  {
   "cell_type": "code",
   "execution_count": 61,
   "source": [
    "X_train.info()"
   ],
   "outputs": [
    {
     "output_type": "stream",
     "name": "stdout",
     "text": [
      "<class 'pandas.core.frame.DataFrame'>\n",
      "Int64Index: 5288120 entries, 590 to 12164900\n",
      "Data columns (total 39 columns):\n",
      " #   Column            Dtype  \n",
      "---  ------            -----  \n",
      " 0   shop_id           int16  \n",
      " 1   item_id           int16  \n",
      " 2   date_block_num    int16  \n",
      " 3   target            float32\n",
      " 4   target_shop       float32\n",
      " 5   target_item       float32\n",
      " 6   item_price        float32\n",
      " 7   shopcat0          float32\n",
      " 8   shopcat1          float32\n",
      " 9   shopcat2          float32\n",
      " 10  shopcat3          float32\n",
      " 11  shopcat4          float32\n",
      " 12  shopcat5          float32\n",
      " 13  shopcat6          float32\n",
      " 14  shopcat7          float32\n",
      " 15  shopcat8          float32\n",
      " 16  shopcat9          float32\n",
      " 17  item_category_id  int16  \n",
      " 18  itemcat0          float32\n",
      " 19  itemcat1          float32\n",
      " 20  itemcat2          float32\n",
      " 21  itemcat3          float32\n",
      " 22  itemcat4          float32\n",
      " 23  itemcat5          float32\n",
      " 24  itemcat6          float32\n",
      " 25  itemcat7          float32\n",
      " 26  itemcat8          float32\n",
      " 27  itemcat9          float32\n",
      " 28  year              int16  \n",
      " 29  month             int16  \n",
      " 30  target_lag1       float32\n",
      " 31  target_lag3       float32\n",
      " 32  target_lag12      float32\n",
      " 33  target_shoplag1   float32\n",
      " 34  target_shoplag3   float32\n",
      " 35  target_shoplag12  float32\n",
      " 36  target_itemlag1   float32\n",
      " 37  target_itemlag3   float32\n",
      " 38  target_itemlag12  float32\n",
      "dtypes: float32(33), int16(6)\n",
      "memory usage: 766.6 MB\n"
     ]
    }
   ],
   "metadata": {}
  },
  {
   "cell_type": "code",
   "execution_count": 62,
   "source": [
    "y_train     = X_train['target'].values\r\n",
    "y_validation= X_validation['target'].values\r\n",
    "y_test      = X_test['target'].values"
   ],
   "outputs": [],
   "metadata": {}
  },
  {
   "cell_type": "code",
   "execution_count": 63,
   "source": [
    "# Mean encoding here\r\n",
    "# We have 5 categorical features: year, month, shop_id, item_id and item_category_id\r\n",
    "# We should use the combination of train/validation set target mean to encode.\r\n",
    "\r\n",
    "means_shop_id =all_train.groupby('shop_id').target.mean()\r\n",
    "means_item_id =all_train.groupby('item_id').target.mean()\r\n",
    "means_category=all_train.groupby('item_category_id').target.mean()\r\n",
    "means_year    =all_train.groupby('year').target.mean()\r\n",
    "means_month   =all_train.groupby('month').target.mean()"
   ],
   "outputs": [],
   "metadata": {}
  },
  {
   "cell_type": "code",
   "execution_count": 64,
   "source": [
    "X_train['shop_id'+'_mean_target']=X_train['shop_id'].map(means_shop_id)\r\n",
    "X_validation['shop_id'+'_mean_target']=X_validation['shop_id'].map(means_shop_id)\r\n",
    "all_train['shop_id'+'_mean_target']=all_train['shop_id'].map(means_shop_id)\r\n",
    "X_test['shop_id'+'_mean_target']=X_test['shop_id'].map(means_shop_id)\r\n",
    "\r\n",
    "X_train['item_id'+'_mean_target']=X_train['item_id'].map(means_item_id)\r\n",
    "X_validation['item_id'+'_mean_target']=X_validation['item_id'].map(means_item_id)\r\n",
    "all_train['item_id'+'_mean_target']=all_train['item_id'].map(means_item_id)\r\n",
    "X_test['item_id'+'_mean_target']=X_test['item_id'].map(means_item_id)\r\n",
    "\r\n",
    "X_train['category'+'_mean_target']=X_train['item_category_id'].map(means_category)\r\n",
    "X_validation['category'+'_mean_target']=X_validation['item_category_id'].map(means_category)\r\n",
    "all_train['category'+'_mean_target']=all_train['item_category_id'].map(means_category)\r\n",
    "X_test['category'+'_mean_target']=X_test['item_category_id'].map(means_category)\r\n",
    "\r\n",
    "X_train['year'+'_mean_target']=X_train['year'].map(means_year)\r\n",
    "X_validation['year'+'_mean_target']=X_validation['year'].map(means_year)\r\n",
    "all_train['year'+'_mean_target']=all_train['year'].map(means_year)\r\n",
    "X_test['year'+'_mean_target']=X_test['year'].map(means_year)\r\n",
    "\r\n",
    "X_train['month'+'_mean_target']=X_train['month'].map(means_month)\r\n",
    "X_validation['month'+'_mean_target']=X_validation['month'].map(means_month)\r\n",
    "all_train['month'+'_mean_target']=all_train['month'].map(means_month)\r\n",
    "X_test['month'+'_mean_target']=X_test['month'].map(means_month)\r\n",
    "\r\n",
    "X_test.fillna(X_test.mean(), inplace=True)"
   ],
   "outputs": [],
   "metadata": {}
  },
  {
   "cell_type": "code",
   "execution_count": 66,
   "source": [
    "print(X_train.shape)\r\n",
    "print(y_train.shape)\r\n",
    "print(X_validation.shape)\r\n",
    "print(y_validation.shape)\r\n",
    "print(X_test.shape)\r\n",
    "print(y_test.shape)"
   ],
   "outputs": [
    {
     "output_type": "stream",
     "name": "stdout",
     "text": [
      "(5288120, 44)\n",
      "(5288120,)\n",
      "(1490486, 44)\n",
      "(1490486,)\n",
      "(214200, 44)\n",
      "(214200,)\n"
     ]
    }
   ],
   "metadata": {}
  },
  {
   "cell_type": "code",
   "execution_count": 67,
   "source": [
    "X_train.columns"
   ],
   "outputs": [
    {
     "output_type": "execute_result",
     "data": {
      "text/plain": [
       "Index(['shop_id', 'item_id', 'date_block_num', 'target', 'target_shop',\n",
       "       'target_item', 'item_price', 'shopcat0', 'shopcat1', 'shopcat2',\n",
       "       'shopcat3', 'shopcat4', 'shopcat5', 'shopcat6', 'shopcat7', 'shopcat8',\n",
       "       'shopcat9', 'item_category_id', 'itemcat0', 'itemcat1', 'itemcat2',\n",
       "       'itemcat3', 'itemcat4', 'itemcat5', 'itemcat6', 'itemcat7', 'itemcat8',\n",
       "       'itemcat9', 'year', 'month', 'target_lag1', 'target_lag3',\n",
       "       'target_lag12', 'target_shoplag1', 'target_shoplag3',\n",
       "       'target_shoplag12', 'target_itemlag1', 'target_itemlag3',\n",
       "       'target_itemlag12', 'shop_id_mean_target', 'item_id_mean_target',\n",
       "       'category_mean_target', 'year_mean_target', 'month_mean_target'],\n",
       "      dtype='object')"
      ]
     },
     "metadata": {},
     "execution_count": 67
    }
   ],
   "metadata": {}
  },
  {
   "cell_type": "code",
   "execution_count": 139,
   "source": [
    "# Lastly we specify the clipping of target\r\n",
    "target_range = [0, 20]\r\n",
    "target_range\r\n",
    "\r\n",
    "y_train=y_train.clip(*target_range)\r\n",
    "y_validation=y_validation.clip(*target_range)\r\n",
    "y_test=y_test.clip(*target_range)"
   ],
   "outputs": [],
   "metadata": {}
  },
  {
   "cell_type": "code",
   "execution_count": 124,
   "source": [
    "X_train.pop('target')\r\n",
    "X_validation.pop('target')\r\n",
    "X_test.pop('target')"
   ],
   "outputs": [
    {
     "output_type": "execute_result",
     "data": {
      "text/plain": [
       "12          0.0\n",
       "29          0.0\n",
       "42          0.0\n",
       "59          0.0\n",
       "72          0.0\n",
       "           ... \n",
       "12454770    0.0\n",
       "12454771    0.0\n",
       "12454772    0.0\n",
       "12454773    0.0\n",
       "12454774    0.0\n",
       "Name: target, Length: 214200, dtype: float32"
      ]
     },
     "metadata": {},
     "execution_count": 124
    }
   ],
   "metadata": {}
  },
  {
   "cell_type": "code",
   "execution_count": 127,
   "source": [
    "X_train.pop('target_shop')\r\n",
    "X_train.pop('target_item')\r\n",
    "X_validation.pop('target_shop')\r\n",
    "X_validation.pop('target_item')\r\n",
    "X_test.pop('target_shop')\r\n",
    "X_test.pop('target_item')\r\n",
    "# we don't need these any more as target should not be in the prediction process"
   ],
   "outputs": [
    {
     "output_type": "execute_result",
     "data": {
      "text/plain": [
       "12          0.0\n",
       "29          0.0\n",
       "42          0.0\n",
       "59          0.0\n",
       "72          0.0\n",
       "           ... \n",
       "12454770    0.0\n",
       "12454771    0.0\n",
       "12454772    0.0\n",
       "12454773    0.0\n",
       "12454774    0.0\n",
       "Name: target_item, Length: 214200, dtype: float32"
      ]
     },
     "metadata": {},
     "execution_count": 127
    }
   ],
   "metadata": {}
  },
  {
   "cell_type": "markdown",
   "source": [
    "### 4 Modeling  <a name=\"Tag4\"></a> "
   ],
   "metadata": {}
  },
  {
   "cell_type": "markdown",
   "source": [
    "&nbsp;&nbsp;&nbsp;[4.1 Model selection, train and validation strategies](#Tag4.1)   \r\n",
    "In this competition we first opt the fastest models: linear regression and lightgbm. lightgbm is chosen over xgboost for speed\r\n",
    "we would also explore advanced catboost as mentioned in coursera course. Finally we will evaluate the ensembling bagging. \r\n",
    "Boosting is also evaluated\r\n",
    "Here knn , other tree methods were not used due to training speed issues. You could also do MLP, LSTM ,etc neural modeling."
   ],
   "metadata": {}
  },
  {
   "cell_type": "markdown",
   "source": [
    "&nbsp;&nbsp;&nbsp;[4.2 LightGBM](#Tag4.2)  \r\n"
   ],
   "metadata": {}
  },
  {
   "cell_type": "code",
   "execution_count": 147,
   "source": [
    "#  Use only part of features on XGBoost. - alternatively , use X_train.columns to include all features\r\n",
    "lgb_features = ['target_lag1','target_lag3','target_lag12','year_mean_target','month_mean_target',\r\n",
    "'target_shoplag1','target_shoplag3','target_shoplag12',\r\n",
    "'target_itemlag1','target_itemlag3','target_itemlag12',\r\n",
    "'shopcat0','shopcat1','shopcat2',\r\n",
    "'itemcat0','itemcat1','itemcat2',\r\n",
    "'shop_id','item_id']\r\n",
    "#lgb_features=X_train.columns\r\n",
    "lgb_train = X_train[lgb_features]\r\n",
    "lgb_validation=X_validation[lgb_features]\r\n",
    "lgb_test= X_test[lgb_features]"
   ],
   "outputs": [],
   "metadata": {}
  },
  {
   "cell_type": "code",
   "execution_count": 148,
   "source": [
    "lgb_params = {\r\n",
    "               'feature_fraction': 0.75,\r\n",
    "               'metric': 'rmse',\r\n",
    "               'nthread':1, \r\n",
    "               'min_data_in_leaf': 2**7, \r\n",
    "               'bagging_fraction': 0.75, \r\n",
    "               'learning_rate': 0.03, \r\n",
    "               'objective': 'mse', \r\n",
    "               'bagging_seed': 2**7,\r\n",
    "               'num_leaves': 2**7,\r\n",
    "               'bagging_freq':1,\r\n",
    "               'verbose':0 \r\n",
    "              }\r\n",
    "\r\n",
    "#model = lgb.train(lgb_params, lgb.Dataset(X_train, label=y_train), 100)\r\n",
    "lgb_model = lgb.train(lgb_params, lgb.Dataset(lgb_train, label=y_train), 100)\r\n",
    "\r\n",
    "Y_train_lgb=lgb_model.predict(lgb_train).clip(*target_range)\r\n",
    "Y_validation_lgb=lgb_model.predict(lgb_validation).clip(*target_range)\r\n",
    "Y_test_lgb=lgb_model.predict(lgb_test).clip(*target_range)\r\n",
    "print('Training RMSE',np.sqrt(mean_squared_error(y_train, Y_train_lgb)))\r\n",
    "print('Validation RMSE',np.sqrt(mean_squared_error(y_validation, Y_validation_lgb)))\r\n"
   ],
   "outputs": [
    {
     "output_type": "stream",
     "name": "stdout",
     "text": [
      "[LightGBM] [Warning] Auto-choosing row-wise multi-threading, the overhead of testing was 0.404849 seconds.\n",
      "You can set `force_row_wise=true` to remove the overhead.\n",
      "And if memory is not enough, you can set `force_col_wise=true`.\n",
      "Training RMSE 0.9357765117735513\n",
      "Validation RMSE 0.9205067908103267\n"
     ]
    }
   ],
   "metadata": {}
  },
  {
   "cell_type": "code",
   "execution_count": 163,
   "source": [
    "# Let's look at the feature importance ranks\r\n",
    "# cited from stackoverflow  https://stackoverflow.com/questions/53413701/feature-importance-using-lightgbm\r\n",
    "def plotImp(lgb_model, lgb_test, num = 10, fig_size = (40, 20)):\r\n",
    "    feature_imp = pd.DataFrame({'Value':lgb_model.feature_importance(),'Feature':lgb_test.columns})\r\n",
    "    plt.figure(figsize=fig_size)\r\n",
    "    sns.set(font_scale = 5)\r\n",
    "    sns.barplot(x=\"Value\", y=\"Feature\", data=feature_imp.sort_values(by=\"Value\", \r\n",
    "                                                        ascending=False)[0:num])\r\n",
    "    plt.title('Top LightGBM Features (avg over folds)')\r\n",
    "    plt.tight_layout()\r\n",
    "    plt.savefig('lgbm_importances-01.png')\r\n",
    "    plt.show()\r\n",
    "    return (feature_imp.sort_values(by=\"Value\",ascending=False)[0:num])\r\n",
    "top10=plotImp(lgb_model, lgb_test, 10, fig_size = (40, 20))"
   ],
   "outputs": [
    {
     "output_type": "display_data",
     "data": {
      "image/png": "[encoded data removed]",
      "text/plain": [
       "<Figure size 2880x1440 with 1 Axes>"
      ]
     },
     "metadata": {}
    }
   ],
   "metadata": {}
  },
  {
   "cell_type": "code",
   "execution_count": 170,
   "source": [
    "top10\r\n",
    "top10.Feature[0]\r\n",
    "lr_features=top10.Feature\r\n",
    "print(lr_features)\r\n",
    "# this shows the importance over - folds "
   ],
   "outputs": [
    {
     "output_type": "stream",
     "name": "stdout",
     "text": [
      "8       target_itemlag1\n",
      "4     month_mean_target\n",
      "0           target_lag1\n",
      "11             shopcat0\n",
      "1           target_lag3\n",
      "18              item_id\n",
      "14             itemcat0\n",
      "5       target_shoplag1\n",
      "2          target_lag12\n",
      "9       target_itemlag3\n",
      "Name: Feature, dtype: object\n"
     ]
    }
   ],
   "metadata": {}
  },
  {
   "cell_type": "markdown",
   "source": [
    "&nbsp;&nbsp;&nbsp;[4.3 Linear model](#Tag4.3)\r\n",
    "we will need to standardize some of them. \r\n",
    "Take a quick look at the text dataset features- item_id , year, target,target_shoplags are well "
   ],
   "metadata": {}
  },
  {
   "cell_type": "code",
   "execution_count": 171,
   "source": [
    "# Use only some top features found in the lightgbm- it may be biased\r\n",
    "# lr_features = ['target_lag1','target_lag3','target_lag12','month_mean_target',\r\n",
    "# 'target_shoplag1',\r\n",
    "# 'target_itemlag1','target_itemlag3',\r\n",
    "# 'shopcat0','shopcat1',\r\n",
    "# 'itemcat0','itemcat1']\r\n",
    "\r\n",
    "lr_train = X_train[lr_features]\r\n",
    "lr_val = X_validation[lr_features]\r\n",
    "lr_test = X_test[lr_features]"
   ],
   "outputs": [],
   "metadata": {}
  },
  {
   "cell_type": "code",
   "execution_count": 208,
   "source": [
    "lr_scaler = StandardScaler()\r\n",
    "lr_scaler.fit(lr_train)\r\n",
    "lr_train = lr_scaler.transform(lr_train)\r\n",
    "lr_val = lr_scaler.transform(lr_val)\r\n",
    "lr_test = lr_scaler.transform(lr_test)"
   ],
   "outputs": [],
   "metadata": {}
  },
  {
   "cell_type": "code",
   "execution_count": 209,
   "source": [
    "lr_model = LinearRegression(n_jobs=-1)\r\n",
    "lr_model.fit(lr_train, y_train)"
   ],
   "outputs": [
    {
     "output_type": "execute_result",
     "data": {
      "text/plain": [
       "LinearRegression(n_jobs=-1)"
      ]
     },
     "metadata": {},
     "execution_count": 209
    }
   ],
   "metadata": {}
  },
  {
   "cell_type": "code",
   "execution_count": 210,
   "source": [
    "y_train_lr = lr_model.predict(lr_train).clip(*target_range)\r\n",
    "y_validation_lr = lr_model.predict(lr_val).clip(*target_range)\r\n",
    "y_test_lr = lr_model.predict(lr_test).clip(*target_range)"
   ],
   "outputs": [],
   "metadata": {}
  },
  {
   "cell_type": "code",
   "execution_count": 211,
   "source": [
    "print('Train rmse:', np.sqrt(mean_squared_error(y_train, y_train_lr)))\r\n",
    "print('Validation rmse:', np.sqrt(mean_squared_error(y_validation, y_validation_lr)))"
   ],
   "outputs": [
    {
     "output_type": "stream",
     "name": "stdout",
     "text": [
      "Train rmse: 2.4921925\n",
      "Validation rmse: 2.2408638\n"
     ]
    }
   ],
   "metadata": {}
  },
  {
   "cell_type": "markdown",
   "source": [
    "&nbsp;&nbsp;&nbsp;[4.3 catboost](#Tag4.4)\r\n"
   ],
   "metadata": {}
  },
  {
   "cell_type": "code",
   "execution_count": 204,
   "source": [
    "catboost_features=['target_lag1','target_lag3','target_lag12','year_mean_target','month_mean_target',\r\n",
    "'target_shoplag1','target_shoplag3','target_shoplag12',\r\n",
    "'target_itemlag1','target_itemlag3','target_itemlag12',\r\n",
    "'shopcat0','shopcat1','shopcat2',\r\n",
    "'itemcat0','itemcat1','itemcat2',\r\n",
    "'shop_id','item_id']"
   ],
   "outputs": [],
   "metadata": {}
  },
  {
   "cell_type": "code",
   "execution_count": 235,
   "source": [
    "print(catboost_features)\r\n",
    "X_cattrain=X_train[catboost_features]\r\n",
    "X_catvalidation=X_validation[catboost_features]\r\n",
    "X_cattest=X_test[catboost_features]\r\n",
    "print(X_cattrain.columns)\r\n"
   ],
   "outputs": [
    {
     "output_type": "stream",
     "name": "stdout",
     "text": [
      "['target_lag1', 'target_lag3', 'target_lag12', 'year_mean_target', 'month_mean_target', 'target_shoplag1', 'target_shoplag3', 'target_shoplag12', 'target_itemlag1', 'target_itemlag3', 'target_itemlag12', 'shopcat0', 'shopcat1', 'shopcat2', 'itemcat0', 'itemcat1', 'itemcat2', 'shop_id', 'item_id']\n",
      "Index(['target_lag1', 'target_lag3', 'target_lag12', 'year_mean_target',\n",
      "       'month_mean_target', 'target_shoplag1', 'target_shoplag3',\n",
      "       'target_shoplag12', 'target_itemlag1', 'target_itemlag3',\n",
      "       'target_itemlag12', 'shopcat0', 'shopcat1', 'shopcat2', 'itemcat0',\n",
      "       'itemcat1', 'itemcat2', 'shop_id', 'item_id'],\n",
      "      dtype='object')\n"
     ]
    }
   ],
   "metadata": {}
  },
  {
   "cell_type": "code",
   "execution_count": 205,
   "source": [
    "catboost_model = CatBoostRegressor(\r\n",
    "    iterations=400,\r\n",
    "    max_ctr_complexity=4,\r\n",
    "    random_seed=1234,\r\n",
    "    od_type='Iter',\r\n",
    "    od_wait=25,\r\n",
    "    verbose=50,\r\n",
    "    depth=5\r\n",
    ")\r\n",
    "\r\n",
    "catboost_model.fit(\r\n",
    "    X_cattrain, y_train.clip(*target_range),\r\n",
    "    eval_set=(X_catvalidation, y_validation.clip(*target_range))\r\n",
    ")\r\n"
   ],
   "outputs": [
    {
     "output_type": "stream",
     "name": "stdout",
     "text": [
      "Learning rate set to 0.342135\n",
      "0:\tlearn: 2.2945721\ttest: 2.0222418\tbest: 2.0222418 (0)\ttotal: 231ms\tremaining: 1m 32s\n",
      "50:\tlearn: 0.9526876\ttest: 0.9001469\tbest: 0.9001469 (50)\ttotal: 12.4s\tremaining: 1m 24s\n",
      "100:\tlearn: 0.9339186\ttest: 0.8968728\tbest: 0.8968728 (100)\ttotal: 24.3s\tremaining: 1m 11s\n",
      "Stopped by overfitting detector  (25 iterations wait)\n",
      "\n",
      "bestTest = 0.8967950871\n",
      "bestIteration = 103\n",
      "\n",
      "Shrink model to first 104 iterations.\n"
     ]
    },
    {
     "output_type": "execute_result",
     "data": {
      "text/plain": [
       "<catboost.core.CatBoostRegressor at 0x21c8a3f5640>"
      ]
     },
     "metadata": {},
     "execution_count": 205
    }
   ],
   "metadata": {}
  },
  {
   "cell_type": "code",
   "execution_count": 236,
   "source": [
    "y_cattrain=catboost_model.predict(X_cattrain).clip(*target_range)\r\n",
    "y_catvalidation=catboost_model.predict(X_catvalidation).clip(*target_range)\r\n",
    "y_cattest=catboost_model.predict(X_cattest).clip(*target_range)"
   ],
   "outputs": [],
   "metadata": {}
  },
  {
   "cell_type": "code",
   "execution_count": 214,
   "source": [
    "# Tabulate results\r\n",
    "# pip install tabulate  - make sure you install tabulate at terminal first\r\n",
    "from tabulate import tabulate\r\n",
    "dataprint = [['lightgbm', round(np.sqrt(mean_squared_error(y_train, Y_train_lgb)),3), round(np.sqrt(mean_squared_error(y_validation, Y_validation_lgb)),3)],                         \r\n",
    "['Linear Regression', round(np.sqrt(mean_squared_error(y_train, y_train_lr)),3), round(np.sqrt(mean_squared_error(y_validation, y_validation_lr)),3)],\r\n",
    "['CatBoost', round(np.sqrt(mean_squared_error(y_train, y_cattrain)),3), round(np.sqrt(mean_squared_error(y_validation, y_catvalidation)),3)]]\r\n",
    "print (tabulate(dataprint, headers=[\"Algorithm\", \"Train RMSE\", \"Validation RMSE\"]))"
   ],
   "outputs": [
    {
     "output_type": "stream",
     "name": "stdout",
     "text": [
      "Algorithm            Train RMSE    Validation RMSE\n",
      "-----------------  ------------  -----------------\n",
      "lightgbm                  0.936              0.921\n",
      "Linear Regression         2.492              2.241\n",
      "CatBoost                  0.933              0.896\n"
     ]
    }
   ],
   "metadata": {}
  },
  {
   "cell_type": "markdown",
   "source": [
    "&nbsp;&nbsp;&nbsp;[4.4 Ensembling](#Tag4.5)  \r\n",
    "Here we do a two level stacking . The strategy as follows\r\n",
    "\r\n",
    "Step1:  combine the validation predictions from all these 2 learners, and create a label that corresponds to the validation set target\r\n",
    "This serves as the meta data (meta of target);\r\n",
    "\r\n",
    "Step2: create a test dataset by similar methods, using test dataset prediction\r\n",
    "\r\n",
    "Step3: train meta model linearly (second level is lr): The meta model without target is the input, validation target as target\r\n",
    "\r\n",
    "Step4: use the retrained model3, use test dataset at step2 as input, make final prediction.\r\n",
    "we can check rmse of final prediction vs. validation set"
   ],
   "metadata": {}
  },
  {
   "cell_type": "code",
   "execution_count": 231,
   "source": [
    "# Step1  and 2 \r\n",
    "Firstlevel=pd.DataFrame(Y_validation_lgb,columns=['Target'])\r\n",
    "Firstlevel['Catboost']=y_catvalidation  \r\n",
    "Firstlevel['lr']=y_validation_lr\r\n",
    "Firstlevel['lgb']=Y_validation_lgb\r\n",
    "Firstlevel['Target']=y_validation                     \r\n",
    "Firstlevel.head(5)\r\n",
    "print (Firstlevel.shape)"
   ],
   "outputs": [
    {
     "output_type": "stream",
     "name": "stdout",
     "text": [
      "(1490486, 4)\n"
     ]
    }
   ],
   "metadata": {}
  },
  {
   "cell_type": "code",
   "execution_count": 232,
   "source": [
    "# step 3 - use linear regression for meta , second model\r\n",
    "Metalrmodel = LinearRegression(n_jobs=-1)\r\n",
    "Firstlevel.drop('Target', axis=1, inplace=True)\r\n",
    "Metalrmodel.fit(Firstlevel, y_validation)"
   ],
   "outputs": [
    {
     "output_type": "execute_result",
     "data": {
      "text/plain": [
       "LinearRegression(n_jobs=-1)"
      ]
     },
     "metadata": {},
     "execution_count": 232
    }
   ],
   "metadata": {}
  },
  {
   "cell_type": "code",
   "execution_count": 234,
   "source": [
    "y_catvalidation.shape"
   ],
   "outputs": [
    {
     "output_type": "execute_result",
     "data": {
      "text/plain": [
       "(1490486,)"
      ]
     },
     "metadata": {},
     "execution_count": 234
    }
   ],
   "metadata": {}
  },
  {
   "cell_type": "code",
   "execution_count": 237,
   "source": [
    "Firstlevel_test=pd.DataFrame(Y_test_lgb,columns=['lgb'])\r\n",
    "Firstlevel_test['Catboost']=y_cattest\r\n",
    "Firstlevel_test['lr']=y_test_lr           \r\n",
    "Firstlevel_test.head(5)\r\n",
    "# Use the test prediction of first level to feed into the input of meta model later"
   ],
   "outputs": [
    {
     "output_type": "execute_result",
     "data": {
      "text/html": [
       "<div>\n",
       "<style scoped>\n",
       "    .dataframe tbody tr th:only-of-type {\n",
       "        vertical-align: middle;\n",
       "    }\n",
       "\n",
       "    .dataframe tbody tr th {\n",
       "        vertical-align: top;\n",
       "    }\n",
       "\n",
       "    .dataframe thead th {\n",
       "        text-align: right;\n",
       "    }\n",
       "</style>\n",
       "<table border=\"1\" class=\"dataframe\">\n",
       "  <thead>\n",
       "    <tr style=\"text-align: right;\">\n",
       "      <th></th>\n",
       "      <th>lgb</th>\n",
       "      <th>Catboost</th>\n",
       "      <th>lr</th>\n",
       "    </tr>\n",
       "  </thead>\n",
       "  <tbody>\n",
       "    <tr>\n",
       "      <th>0</th>\n",
       "      <td>0.104601</td>\n",
       "      <td>0.135746</td>\n",
       "      <td>0.253702</td>\n",
       "    </tr>\n",
       "    <tr>\n",
       "      <th>1</th>\n",
       "      <td>0.383204</td>\n",
       "      <td>0.362221</td>\n",
       "      <td>1.958235</td>\n",
       "    </tr>\n",
       "    <tr>\n",
       "      <th>2</th>\n",
       "      <td>0.199279</td>\n",
       "      <td>0.139675</td>\n",
       "      <td>0.431268</td>\n",
       "    </tr>\n",
       "    <tr>\n",
       "      <th>3</th>\n",
       "      <td>0.092620</td>\n",
       "      <td>0.038900</td>\n",
       "      <td>0.451906</td>\n",
       "    </tr>\n",
       "    <tr>\n",
       "      <th>4</th>\n",
       "      <td>0.086968</td>\n",
       "      <td>0.039778</td>\n",
       "      <td>0.417371</td>\n",
       "    </tr>\n",
       "  </tbody>\n",
       "</table>\n",
       "</div>"
      ],
      "text/plain": [
       "        lgb  Catboost        lr\n",
       "0  0.104601  0.135746  0.253702\n",
       "1  0.383204  0.362221  1.958235\n",
       "2  0.199279  0.139675  0.431268\n",
       "3  0.092620  0.038900  0.451906\n",
       "4  0.086968  0.039778  0.417371"
      ]
     },
     "metadata": {},
     "execution_count": 237
    }
   ],
   "metadata": {}
  },
  {
   "cell_type": "code",
   "execution_count": 238,
   "source": [
    "# Step 4\r\n",
    "Ensemble_validation_lr=Metalrmodel.predict(Firstlevel).clip(*target_range)\r\n",
    "Ensemble_test_lr      =Metalrmodel.predict(Firstlevel_test).clip(*target_range)\r\n",
    "print('Train rmse:', np.sqrt(mean_squared_error(Ensemble_validation_lr, y_validation)))"
   ],
   "outputs": [
    {
     "output_type": "stream",
     "name": "stdout",
     "text": [
      "Train rmse: 0.8901953879287764\n"
     ]
    },
    {
     "output_type": "stream",
     "name": "stderr",
     "text": [
      "C:\\Users\\Ivan\\AppData\\Local\\Packages\\PythonSoftwareFoundation.Python.3.9_qbz5n2kfra8p0\\LocalCache\\local-packages\\Python39\\site-packages\\sklearn\\base.py:484: FutureWarning: The feature names should match those that were passed during fit. Starting version 1.2, an error will be raised.\n",
      "Feature names must be in the same order as they were in fit.\n",
      "\n",
      "  warnings.warn(message, FutureWarning)\n"
     ]
    }
   ],
   "metadata": {}
  },
  {
   "cell_type": "code",
   "execution_count": 242,
   "source": [
    "# Let's create a submission\r\n",
    "# predictions and generate output for all 4 algorithms\r\n",
    "sample_submission = pd.read_csv('data/sample_submission.csv')\r\n",
    "submission=sample_submission.copy()\r\n"
   ],
   "outputs": [],
   "metadata": {}
  },
  {
   "cell_type": "code",
   "execution_count": 243,
   "source": [
    "outputsets={'lgb','lr','catboost','Ensemble -LR'}\r\n",
    "outputvalue=[Y_test_lgb, y_test_lr, y_cattest,Ensemble_test_lr]\r\n",
    "for AlgName,OutName in zip(outputsets,outputvalue):\r\n",
    "    submission['item_cnt_month']= np.round_(OutName, decimals = 4) \r\n",
    "    outname = 'submissions'+AlgName+'.csv'\r\n",
    "    outdir = './Predictions'\r\n",
    "    if not os.path.exists(outdir):\r\n",
    "        os.mkdir(outdir)\r\n",
    "    fullname = os.path.join(outdir, outname)    \r\n",
    "    submission.to_csv(fullname,index=False)\r\n",
    "#submission.to_csv('Predictions/submission_linear_regression.csv', index=False)"
   ],
   "outputs": [],
   "metadata": {}
  },
  {
   "cell_type": "code",
   "execution_count": 244,
   "source": [
    "submission = pd.DataFrame({'ID': sample_submission.ID, 'item_cnt_month': Ensemble_test_lr})\r\n",
    "submission.to_csv('Predictions/submission_Ensemble11032021morning.csv', index=False)"
   ],
   "outputs": [],
   "metadata": {}
  },
  {
   "cell_type": "markdown",
   "source": [],
   "metadata": {}
  },
  {
   "cell_type": "markdown",
   "source": [
    "###  [5. Conclusion](#Tag5)    \r\n",
    "1. Categorical features are vital in this modeling process - most features extracted from EDA and text processing played significant role in prediction, although not all top categorical text features were used in the prediction\r\n",
    "2. Word processing parts- combination of pre-processing techniques are necessary before tf-idf could be applied; nmf and compressing techniques really helped in trimming down important features- due to the scope and resource limit, only several features were used in the model but could be explored further\r\n",
    "3. time-series split should be carefully done, some lag features are necessary but not all (in this model I added 1,3,12 months lag, but in the end only 1,12 months mattered much)\r\n",
    "4. Tree based methods were used here but not with emphasis. I personally prefer to clean the data to numeric forms and scale them within reasonable ranges- Consider modeling speed I opted lightgbm and catboost, with little hyperparameter tuning- could explor more in future.\r\n",
    "5. Stacking - linear regression stacking is a basic one, it did not seem to improve over catboost alone though."
   ],
   "metadata": {}
  }
 ],
 "metadata": {
  "orig_nbformat": 4,
  "language_info": {
   "name": "python",
   "version": "3.9.7",
   "mimetype": "text/x-python",
   "codemirror_mode": {
    "name": "ipython",
    "version": 3
   },
   "pygments_lexer": "ipython3",
   "nbconvert_exporter": "python",
   "file_extension": ".py"
  },
  "kernelspec": {
   "name": "python3",
   "display_name": "Python 3.9.7 64-bit (windows store)"
  },
  "interpreter": {
   "hash": "63d64d53abb64f4c31c9f8aed18c735b290ce78d4469bb66fc945cce61490c3b"
  }
 },
 "nbformat": 4,
 "nbformat_minor": 2
}